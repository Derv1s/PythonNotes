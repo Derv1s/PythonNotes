{
 "cells": [
  {
   "cell_type": "markdown",
   "id": "f9bef2ea-1c70-4bf7-a3e5-b43185651946",
   "metadata": {},
   "source": [
    "# İşleçler\n",
    "İngilizce’de *operator* adı verilen işleçler, sağında ve solunda bulunan değerler arasında bir ilişki kuran işaretlerdir. Bir işlecin sağında ve solunda bulunan değerlere ise işlenen (*operand*) adı veriyoruz."
   ]
  },
  {
   "cell_type": "markdown",
   "id": "de9d50e5-053e-466f-9b36-31c34f90af73",
   "metadata": {},
   "source": [
    "İşleçleri altı başlık altında inceleyebiliriz:\n",
    "\n",
    "1. Aritmetik İşleçler\n",
    "2. Karşılaştırma İşleçleri\n",
    "3. Bool İşleçleri\n",
    "4. Değer Atama İşleçleri\n",
    "5. Aitlik İşleçleri\n",
    "6. Kimlik İşleçleri"
   ]
  },
  {
   "cell_type": "markdown",
   "id": "995cd688-8d9a-45ec-9b8e-2d3b25e63f5c",
   "metadata": {},
   "source": [
    "### Aritmetik İşleçler\n",
    "```\n",
    "+ toplama\n",
    "\n",
    "- çıkarma\n",
    "\n",
    "* çarpma\n",
    "\n",
    "/ bölme\n",
    "\n",
    "** kuvvet\n",
    "```\n",
    "Hemen örneklerle anlayalım."
   ]
  },
  {
   "cell_type": "code",
   "execution_count": 1,
   "id": "6b3f772c-d585-4f10-ab04-f448d293e04c",
   "metadata": {},
   "outputs": [
    {
     "data": {
      "text/plain": [
       "42"
      ]
     },
     "execution_count": 1,
     "metadata": {},
     "output_type": "execute_result"
    }
   ],
   "source": [
    "21 + 21"
   ]
  },
  {
   "cell_type": "code",
   "execution_count": 2,
   "id": "468ae87c-f1d0-419d-a5d3-bdbbc4681746",
   "metadata": {},
   "outputs": [
    {
     "data": {
      "text/plain": [
       "5"
      ]
     },
     "execution_count": 2,
     "metadata": {},
     "output_type": "execute_result"
    }
   ],
   "source": [
    "50 - 45"
   ]
  },
  {
   "cell_type": "code",
   "execution_count": 3,
   "id": "55ea379e-299b-4c44-aebb-81795e79a1b2",
   "metadata": {},
   "outputs": [
    {
     "data": {
      "text/plain": [
       "40"
      ]
     },
     "execution_count": 3,
     "metadata": {},
     "output_type": "execute_result"
    }
   ],
   "source": [
    "5 * 8"
   ]
  },
  {
   "cell_type": "code",
   "execution_count": 4,
   "id": "9db86aab-89ec-4bf4-8cc7-41f6f0958e14",
   "metadata": {},
   "outputs": [
    {
     "data": {
      "text/plain": [
       "7.0"
      ]
     },
     "execution_count": 4,
     "metadata": {},
     "output_type": "execute_result"
    }
   ],
   "source": [
    "14 / 2"
   ]
  },
  {
   "cell_type": "code",
   "execution_count": 5,
   "id": "be369770-9978-4819-9673-e14334c1eaf7",
   "metadata": {},
   "outputs": [
    {
     "data": {
      "text/plain": [
       "25"
      ]
     },
     "execution_count": 5,
     "metadata": {},
     "output_type": "execute_result"
    }
   ],
   "source": [
    "5 ** 2"
   ]
  },
  {
   "cell_type": "code",
   "execution_count": 20,
   "id": "53153560-a86e-44e7-8c3b-6f215db2d99c",
   "metadata": {},
   "outputs": [
    {
     "data": {
      "text/plain": [
       "5.0"
      ]
     },
     "execution_count": 20,
     "metadata": {},
     "output_type": "execute_result"
    }
   ],
   "source": [
    "25 ** 0.5"
   ]
  },
  {
   "cell_type": "markdown",
   "id": "bc7971f1-9188-49fb-ad8f-61a11cba32bd",
   "metadata": {},
   "source": [
    "hop karekök ;)"
   ]
  },
  {
   "cell_type": "markdown",
   "id": "38d14359-1873-42d5-a597-7da8b7c1ac62",
   "metadata": {},
   "source": [
    "Kuvvet hesaplamak için bir de `pow()` adında bir fonksiyonumuz var, sentaksı şu şekilde:\n",
    "\n",
    "`pow(sayı, kuvvet, sonucun_n_sayısı_ile_modu)`"
   ]
  },
  {
   "cell_type": "code",
   "execution_count": 21,
   "id": "754fac47-22d2-4afb-816e-1388fec7b90b",
   "metadata": {},
   "outputs": [
    {
     "data": {
      "text/plain": [
       "256"
      ]
     },
     "execution_count": 21,
     "metadata": {},
     "output_type": "execute_result"
    }
   ],
   "source": [
    "pow(2, 8)"
   ]
  },
  {
   "cell_type": "code",
   "execution_count": 23,
   "id": "3bfe1295-2874-463c-affb-c1ee0262a918",
   "metadata": {},
   "outputs": [
    {
     "data": {
      "text/plain": [
       "1"
      ]
     },
     "execution_count": 23,
     "metadata": {},
     "output_type": "execute_result"
    }
   ],
   "source": [
    "pow(2, 8, 5) # --> 256 % 5"
   ]
  },
  {
   "cell_type": "markdown",
   "id": "1fdab143-d77a-467b-b07e-56017db0383a",
   "metadata": {},
   "source": [
    "Sadece sayılar mı???"
   ]
  },
  {
   "cell_type": "code",
   "execution_count": 6,
   "id": "06f3c3c7-47dc-47b3-b4c4-db60bfc8baac",
   "metadata": {},
   "outputs": [
    {
     "data": {
      "text/plain": [
       "'www.google.com'"
      ]
     },
     "execution_count": 6,
     "metadata": {},
     "output_type": "execute_result"
    }
   ],
   "source": [
    "\"www.\" + \"google\" + \".com\""
   ]
  },
  {
   "cell_type": "code",
   "execution_count": 8,
   "id": "fc760852-ca11-4aa0-9ade-f871ce767270",
   "metadata": {},
   "outputs": [
    {
     "data": {
      "text/plain": [
       "'yavaş yavaş '"
      ]
     },
     "execution_count": 8,
     "metadata": {},
     "output_type": "execute_result"
    }
   ],
   "source": [
    "\"yavaş \" * 2"
   ]
  },
  {
   "cell_type": "markdown",
   "id": "147ca95a-47f3-451e-8f18-336726e1417f",
   "metadata": {},
   "source": [
    "veya bazen iki çıktının arasında görüntü olarak karışmasını engellemek için kullandığımız şu var:"
   ]
  },
  {
   "cell_type": "code",
   "execution_count": 9,
   "id": "94cb2447-60e2-4605-babd-32852b9fd48c",
   "metadata": {},
   "outputs": [
    {
     "data": {
      "text/plain": [
       "'--------------------'"
      ]
     },
     "execution_count": 9,
     "metadata": {},
     "output_type": "execute_result"
    }
   ],
   "source": [
    "\"-\"*20"
   ]
  },
  {
   "cell_type": "code",
   "execution_count": 10,
   "id": "44251b6b-b27d-48fb-99ca-bdb207ae4173",
   "metadata": {},
   "outputs": [
    {
     "name": "stdout",
     "output_type": "stream",
     "text": [
      "Birinci Bilgi\n",
      "--------------------\n",
      "İkinci Bilgi\n"
     ]
    }
   ],
   "source": [
    "print(\"Birinci Bilgi\")\n",
    "print(\"-\"*20)\n",
    "print(\"İkinci Bilgi\")"
   ]
  },
  {
   "cell_type": "markdown",
   "id": "8acb9fc9-3fce-44ef-b6e2-2f268748f3d0",
   "metadata": {},
   "source": [
    "Bunlar temel aritmetik işleçlerdi, şimdi bi tık üstüne bakalım.\n",
    "\n",
    "% modülüs --> a/b 'den kalan\n",
    "\n",
    "// taban bölme --> a/b 'de bölümün tam sayı kısmı"
   ]
  },
  {
   "cell_type": "code",
   "execution_count": 11,
   "id": "d76ba8ea-eeeb-4c53-857e-be785ce5691c",
   "metadata": {},
   "outputs": [
    {
     "data": {
      "text/plain": [
       "0"
      ]
     },
     "execution_count": 11,
     "metadata": {},
     "output_type": "execute_result"
    }
   ],
   "source": [
    "10 % 2"
   ]
  },
  {
   "cell_type": "markdown",
   "id": "bd41a9b6-bfa9-43e5-a257-00ae5268c203",
   "metadata": {},
   "source": [
    "10 / 2 = 5, tam bölünür, kalan = 0"
   ]
  },
  {
   "cell_type": "markdown",
   "id": "74319f0c-47ee-4ee5-b675-c05b18da2bee",
   "metadata": {},
   "source": [
    "Modülüsü genelde bir sayının tek/çift olmasını kontrol ederken kullandım."
   ]
  },
  {
   "cell_type": "code",
   "execution_count": 13,
   "id": "bbd3e922-2d32-492a-8341-03e38ff34ea8",
   "metadata": {},
   "outputs": [
    {
     "data": {
      "text/plain": [
       "4"
      ]
     },
     "execution_count": 13,
     "metadata": {},
     "output_type": "execute_result"
    }
   ],
   "source": [
    "19 % 5"
   ]
  },
  {
   "cell_type": "markdown",
   "id": "64061c52-d421-491d-bf4f-3d168ed787cd",
   "metadata": {},
   "source": [
    "19 sayısı 5'e tam bölünmez, bölüm 3, kalan = 4'tür"
   ]
  },
  {
   "cell_type": "code",
   "execution_count": 14,
   "id": "b01d7fd1-f041-4455-aaf5-d6353ac069aa",
   "metadata": {},
   "outputs": [
    {
     "data": {
      "text/plain": [
       "3"
      ]
     },
     "execution_count": 14,
     "metadata": {},
     "output_type": "execute_result"
    }
   ],
   "source": [
    "19 // 5"
   ]
  },
  {
   "cell_type": "markdown",
   "id": "8cccc300-91e3-40be-abb5-4c502b4fcced",
   "metadata": {},
   "source": [
    "dediğimiz gibi, bölüm = 3'tür"
   ]
  },
  {
   "cell_type": "markdown",
   "id": "09863996-00e3-425e-99e4-bee0d18c3288",
   "metadata": {},
   "source": [
    "Şimdi burada 19/5 işleminin sonucu 3,.. gibi bir sayı, peki biz böyle sayıların mesela sadece virgülden sonraki 1 basamağına kadar olan kısmını almak istesek ne yapacağız?\n",
    "\n",
    "Tabi ki `round()` fonksiyonunu kullanacağız.\n",
    "\n",
    "Kullanımı şu şekilde;\n",
    "\n",
    "Eğer bir parametre girmezsek direkt tam sayıya yuvarlıyor,\n",
    "\n",
    "eğer parametre girersek virgülden sonra girdiğimiz parametre kadar olan kısmını yazıyor."
   ]
  },
  {
   "cell_type": "code",
   "execution_count": 19,
   "id": "799d008e-9d98-4f08-b693-c4504a242297",
   "metadata": {},
   "outputs": [
    {
     "name": "stdout",
     "output_type": "stream",
     "text": [
      "3\n",
      "3.14\n"
     ]
    }
   ],
   "source": [
    "pi = 3.141592653\n",
    "print(round(pi))\n",
    "print(round(pi, 2))"
   ]
  },
  {
   "cell_type": "markdown",
   "id": "bf39cab8-1d78-4dcd-b6d2-4ea644b1814f",
   "metadata": {},
   "source": [
    "### Karşılaştırma İşleçleri\n",
    "Adı üzere, karşılaştırma yapıyor, büyüktür, küçüktür..."
   ]
  },
  {
   "cell_type": "markdown",
   "id": "46021a9d-33e4-4fb3-9009-58d7494ccbde",
   "metadata": {},
   "source": [
    "== eşittir\n",
    "\n",
    "!= eşit değildir\n",
    "\n",
    "\\> büyüktür\n",
    "\n",
    "< küçüktür\n",
    "\n",
    "\\>= büyük eşittir\n",
    "\n",
    "<= küçük eşittir"
   ]
  },
  {
   "cell_type": "markdown",
   "id": "accaeb9e-6f5a-4eff-8c01-4b059302b291",
   "metadata": {},
   "source": [
    "örnek yapmaya gerek bile yok bence..."
   ]
  },
  {
   "cell_type": "markdown",
   "id": "53787baa-4d0f-4bd2-ae38-551acf0c49ae",
   "metadata": {},
   "source": [
    "### Bool İşleçleri\n",
    "Bool nedir?\n",
    "\n",
    "Bilgisayar bilimi temelde iki değer üzerine kuruludur: 1 ve 0.\n",
    "\n",
    "Yani True ve False\n",
    "\n",
    "Elektrik var, elektrik yok.\n",
    "\n",
    "İşte bool budur."
   ]
  },
  {
   "cell_type": "code",
   "execution_count": 25,
   "id": "e6d98b6a-3f60-4c56-a837-7714701835a9",
   "metadata": {},
   "outputs": [
    {
     "data": {
      "text/plain": [
       "True"
      ]
     },
     "execution_count": 25,
     "metadata": {},
     "output_type": "execute_result"
    }
   ],
   "source": [
    "n = 1\n",
    "n == 1"
   ]
  },
  {
   "cell_type": "markdown",
   "id": "ffc60deb-f8d0-4cb8-aa67-7aaad4a281e4",
   "metadata": {},
   "source": [
    "n diye bir değişken tanımladık, değerini 1 sayısı yaptık, sonra da \"n sayısı 1 sayısına eşit midir?\" diye bir sorgu yaptık. Bilgisayar da bize `True` değeri döndü, demek ki n değeri 1 sayısına eşitmiş.\n",
    "\n",
    "Bir de 2 sayısına eşit mi diye bakalım."
   ]
  },
  {
   "cell_type": "code",
   "execution_count": 26,
   "id": "bbf09159-559e-4b81-8eea-de2775345eca",
   "metadata": {},
   "outputs": [
    {
     "data": {
      "text/plain": [
       "False"
      ]
     },
     "execution_count": 26,
     "metadata": {},
     "output_type": "execute_result"
    }
   ],
   "source": [
    "n == 2"
   ]
  },
  {
   "cell_type": "markdown",
   "id": "5c05c5fd-a07c-4145-bb58-ae86f1e42efa",
   "metadata": {},
   "source": [
    "Anlatmaya gerek yok, görüyorsunuz, görüyorsunuz işte..."
   ]
  },
  {
   "cell_type": "markdown",
   "id": "af0d388b-e6a3-4ea9-b0cf-71ef67c28f20",
   "metadata": {},
   "source": [
    "Bilgisayar biliminde her şeyin bir bool değeri vardır. `bool()` adında çok güzel bir fonksiyon bize bunu gösterir. Çalışma mantığı şu şekildedir:\n",
    "\n",
    "Eğer bir verinin içi 0 veya boş değilse `True`,\n",
    "\n",
    "0 veya boş ise `False` döner."
   ]
  },
  {
   "cell_type": "code",
   "execution_count": 27,
   "id": "775b4635-2535-418a-8d53-94f13b309023",
   "metadata": {},
   "outputs": [],
   "source": [
    "sayı_1 = 5\n",
    "sayı_2 = 0\n",
    "\n",
    "text_1 = \"Merhaba\"\n",
    "text_2 = \"\""
   ]
  },
  {
   "cell_type": "markdown",
   "id": "bbd314b2-6ad3-4d53-a960-055013de5148",
   "metadata": {},
   "source": [
    "Şimdi yukarıdaki bütün verilerin bool değerlerini kontrol edelim."
   ]
  },
  {
   "cell_type": "code",
   "execution_count": 28,
   "id": "5291e3d9-60b3-4bfe-9509-f749fcbf44ae",
   "metadata": {},
   "outputs": [
    {
     "name": "stdout",
     "output_type": "stream",
     "text": [
      "True\n",
      "False\n",
      "True\n",
      "False\n"
     ]
    }
   ],
   "source": [
    "print(bool(sayı_1))\n",
    "print(bool(sayı_2))\n",
    "print(bool(text_1))\n",
    "print(bool(text_2))"
   ]
  },
  {
   "cell_type": "markdown",
   "id": "6ebdada5-7973-454a-84b1-358bce80399e",
   "metadata": {},
   "source": [
    "Beklediğimiz sonuç çıktı, boş veya 0 olan veriler False değer döndü. PEKİ BU NE İŞİMİZE YARAR??? Örneğin kullanıcıdan bir yere e-posta vs. girmesini istiyorsunuz, kullanıcı orayı boş geçmeye çalışırsa program False değer verip çalışmayabilir."
   ]
  },
  {
   "cell_type": "markdown",
   "id": "619bd5f6-d154-4f3b-9adb-e707767d092e",
   "metadata": {},
   "source": [
    "Bu bilgi ile birlikte şu şekilde kodlar yazabiliriz artık:"
   ]
  },
  {
   "cell_type": "code",
   "execution_count": 31,
   "id": "7f67ba78-35d7-4436-875a-5c5940ae588c",
   "metadata": {},
   "outputs": [
    {
     "name": "stdin",
     "output_type": "stream",
     "text": [
      "Kullanıcı adını giriniz:  Beko\n"
     ]
    },
    {
     "name": "stdout",
     "output_type": "stream",
     "text": [
      "Hoşgeldiniz Beko\n"
     ]
    }
   ],
   "source": [
    "k_adı = input(\"Kullanıcı adını giriniz: \")\n",
    "\n",
    "if k_adı:\n",
    "    print(\"Hoşgeldiniz \" + k_adı)\n",
    "else:\n",
    "    print(\"Kullanıcı adı boş geçilemez\")"
   ]
  },
  {
   "cell_type": "markdown",
   "id": "e72d7f31-5c29-4cef-b106-3a8e2e5cdcf5",
   "metadata": {},
   "source": [
    "`if k_adı:` dediğimiz yere dikkat edin, `if` nasıl çalışıyordu? Eğer koşul `True` ise. Burada ne yapıyoruz? `k_adı` değerinin boş olup olmadığını kontrol ediyoruz."
   ]
  },
  {
   "cell_type": "markdown",
   "id": "8c80c239-f58b-493c-bebe-09a553776d4d",
   "metadata": {},
   "source": [
    "Bool kavramına aşinalık kazandığımıza göre şimdi bool işleçlerini incelemeye başlayabiliriz.\n",
    "\n",
    "Bool işleçleri, bool değerlerinden birini elde etmemizi sağlayan işleçlerdir. Bu işleçler şunlardır:\n",
    "\n",
    "and --> ve\n",
    "\n",
    "or  --> veya\n",
    "\n",
    "not --> değil\n",
    "\n",
    "(Mantık dersinde gördüğümüz şeyler, 1v1 == 1, 1v0 == 1... falan filan)"
   ]
  },
  {
   "cell_type": "markdown",
   "id": "2d309564-f277-4fad-b9d6-ed697d0e92a2",
   "metadata": {},
   "source": [
    "Bunları ne zaman kullanıyoruz? Diyelim ki iki farklı durumu kontrol edip ikisi de `True` ise programın çalışmasını istiyoruz, o zaman kullanıyoruz işte."
   ]
  },
  {
   "cell_type": "code",
   "execution_count": 35,
   "id": "65a3450d-3b28-4f17-8bfd-1499d1a2171f",
   "metadata": {},
   "outputs": [],
   "source": [
    "hesap_adı, hesap_parola = \"xKralTR\", \"NaBCaNLa123!\""
   ]
  },
  {
   "cell_type": "code",
   "execution_count": 36,
   "id": "fedb615b-9d84-452e-832f-d18a3c53cfa8",
   "metadata": {},
   "outputs": [
    {
     "name": "stdin",
     "output_type": "stream",
     "text": [
      "Kullanıcı adını girin:  xKralTR\n",
      "Kullanıcı adını girin:  NaBCaNLa123!\n"
     ]
    },
    {
     "name": "stdout",
     "output_type": "stream",
     "text": [
      "Başarılı bir şekilde sisteme giriş yaptınız!\n"
     ]
    }
   ],
   "source": [
    "k_adı = input(\"Kullanıcı adını girin: \")\n",
    "k_parola = input(\"Kullanıcı adını girin: \")\n",
    "\n",
    "if k_adı == hesap_adı and k_parola == hesap_parola:\n",
    "    print(\"Başarılı bir şekilde sisteme giriş yaptınız!\")\n",
    "else:\n",
    "    print(\"Kullanıcı adı veya parola hatalı!\")"
   ]
  },
  {
   "cell_type": "code",
   "execution_count": 37,
   "id": "aaa75219-8986-403d-a1c8-1e3869939a8b",
   "metadata": {},
   "outputs": [
    {
     "name": "stdin",
     "output_type": "stream",
     "text": [
      "Kullanıcı adını girin:  DerDiNeKeder\n",
      "Kullanıcı adını girin:  AlaYıNaGidEr\n"
     ]
    },
    {
     "name": "stdout",
     "output_type": "stream",
     "text": [
      "Kullanıcı adı veya parola hatalı!\n"
     ]
    }
   ],
   "source": [
    "k_adı = input(\"Kullanıcı adını girin: \")\n",
    "k_parola = input(\"Kullanıcı adını girin: \")\n",
    "\n",
    "if k_adı == hesap_adı and k_parola == hesap_parola:\n",
    "    print(\"Başarılı bir şekilde sisteme giriş yaptınız!\")\n",
    "else:\n",
    "    print(\"Kullanıcı adı veya parola hatalı!\")"
   ]
  },
  {
   "cell_type": "markdown",
   "id": "6f82674b-a80d-4a5d-9abb-e751ed60f996",
   "metadata": {},
   "source": [
    "### Değer Atama İşleçleri\n",
    "Aslında en başından beri kullandığımız şeyin şimdi ismini öğrenmiş olduk. Evet `=` bu gördüğünüz şey bir DEĞER ATAMA İŞLECİ.\n",
    "\n",
    "Tabii ki başka değer atama işleçleri de var:\n",
    "\n",
    "+= işleci:\n",
    "\n",
    "`değer += atanacak_değer` değerimizi alıyoruz, değerimizin üstüne atacanacak değeri ekleyip yeni değerimizi elde ediyoruz. Örnek:"
   ]
  },
  {
   "cell_type": "code",
   "execution_count": 38,
   "id": "a1e2d96b-bb9a-4e7f-a40e-74e93dda6800",
   "metadata": {},
   "outputs": [
    {
     "name": "stdout",
     "output_type": "stream",
     "text": [
      "5\n",
      "8\n"
     ]
    }
   ],
   "source": [
    "a = 5\n",
    "print(a)\n",
    "\n",
    "a += 3\n",
    "print(a)"
   ]
  },
  {
   "cell_type": "markdown",
   "id": "2dd26703-f20b-4225-91f0-12147ef19751",
   "metadata": {},
   "source": [
    "Anladınız, okay?\n",
    "\n",
    "PEKİ NEREDE KULLANIRUZ BUNU? Sayaç!!!"
   ]
  },
  {
   "cell_type": "code",
   "execution_count": 44,
   "id": "6f36b1de-7880-4e4d-b058-156256818571",
   "metadata": {},
   "outputs": [
    {
     "name": "stdout",
     "output_type": "stream",
     "text": [
      "n sayısının şu anki değeri = 0\n",
      "n işleme giriyor\n",
      "girdi\n",
      "şöyle bir değişime uğradı --> n = 5\n",
      "n işleme giriyor\n",
      "girdi\n",
      "şöyle bir değişime uğradı --> n = 10\n",
      "n işleme giriyor\n",
      "girdi\n",
      "şöyle bir değişime uğradı --> n = 15\n",
      "n işleme giriyor\n",
      "girdi\n",
      "şöyle bir değişime uğradı --> n = 20\n",
      "n işleme giriyor\n",
      "girdi\n",
      "şöyle bir değişime uğradı --> n = 25\n",
      "n sayısının son durumu = 25\n"
     ]
    }
   ],
   "source": [
    "n = 0\n",
    "print(\"n sayısının şu anki değeri =\", n)\n",
    "\n",
    "for i in range(5):\n",
    "    print(\"n işleme giriyor\")\n",
    "    n += 5\n",
    "    print(\"girdi\")\n",
    "    print(\"şöyle bir değişime uğradı --> n =\", n)\n",
    "print(\"n sayısının son durumu =\", n)"
   ]
  },
  {
   "cell_type": "markdown",
   "id": "f4e6296c-b204-4b1e-b5f8-e66bba5e0a14",
   "metadata": {},
   "source": [
    "-= işleci\n",
    "\n",
    "/= işleci\n",
    "\n",
    "*= işleci\n",
    "\n",
    "%= işleci\n",
    "\n",
    "**= işleci\n",
    "\n",
    "//= işleci\n",
    "\n",
    ":D"
   ]
  },
  {
   "cell_type": "markdown",
   "id": "f9fc15d0-0305-4918-8c05-a520e08b7b2f",
   "metadata": {
    "tags": []
   },
   "source": [
    "### Aitlik İşleci\n",
    "Bir karakter dizisi ya da sayının, herhangi bir veri tipi içinde bulunup bulunmadığını sorgulamamızı sağlayan işlecidir.\n",
    "\n",
    "`\"Sorguladığımız_değer\" in \"Neyin_içinde_sorguladğımız\"`"
   ]
  },
  {
   "cell_type": "code",
   "execution_count": 45,
   "id": "4e84e6d5-90d5-41fd-8bf5-69224a249477",
   "metadata": {},
   "outputs": [
    {
     "data": {
      "text/plain": [
       "True"
      ]
     },
     "execution_count": 45,
     "metadata": {},
     "output_type": "execute_result"
    }
   ],
   "source": [
    "text = \"Merhaba\"\n",
    "\n",
    "sorgu = \"a\"\n",
    "\n",
    "sorgu in text"
   ]
  },
  {
   "cell_type": "markdown",
   "id": "271e9a62-fd45-495c-9e10-7d941f09a0fd",
   "metadata": {},
   "source": [
    "`sorgu` değeri `text` değerinin içinde varmış. Peki bunu nerede kullanabiliriz?"
   ]
  },
  {
   "cell_type": "code",
   "execution_count": 48,
   "id": "3f68a2fe-cd86-43e6-a6e8-ad667919b71c",
   "metadata": {},
   "outputs": [
    {
     "name": "stdin",
     "output_type": "stream",
     "text": [
      "İçinde a harfi olmayan bir kelime girin:  Hellooo\n"
     ]
    },
    {
     "name": "stdout",
     "output_type": "stream",
     "text": [
      "Kelimeniz: Hellooo\n"
     ]
    }
   ],
   "source": [
    "kelime = input(\"İçinde a harfi olmayan bir kelime girin: \")\n",
    "\n",
    "if \"a\" in kelime:\n",
    "    print(\"Haydaaaa!\")\n",
    "else:\n",
    "    print(\"Kelimeniz:\", kelime)"
   ]
  },
  {
   "cell_type": "markdown",
   "id": "8d67a836-a331-4bff-a7da-eb9712cc912d",
   "metadata": {
    "tags": []
   },
   "source": [
    "(BU ÖRNEĞİ HİÇ BEĞENMEDİM AMA AKLIMA DAHA GÜZEL BİR ÖRNEK GELMEDİ!!! KENDİNİZE GÜZEL BİR ÖRNEK BULUN HOCAM!!!)"
   ]
  },
  {
   "cell_type": "markdown",
   "id": "802e24e7-08a9-4c16-a61b-c507aa7399be",
   "metadata": {},
   "source": [
    "### Kimlik İşleçleri\n",
    "Python’da her şeyin bir kimlik numarası vardır. Kabaca söylemek gerekirse, bu kimlik numarası denen şey esasında o nesnenin bellekteki adresini gösterir.\n",
    "\n",
    "Peki bir nesnenin kimlik numarasına nasıl ulaşırız?\n",
    "\n",
    "Python’da bu işi yapmamızı sağlayacak id() adlı bir fonksiyon bulunur (İngilizcedeki identity (kimlik) kelimesinin kısaltması). Şimdi bir örnek üzerinde bu `id()` fonksiyonunu nasıl kullanacağımıza bakalım:"
   ]
  },
  {
   "cell_type": "code",
   "execution_count": 49,
   "id": "92054161-d43d-4c7a-8ece-dd9c56d56e1e",
   "metadata": {},
   "outputs": [
    {
     "data": {
      "text/plain": [
       "1977630298608"
      ]
     },
     "execution_count": 49,
     "metadata": {},
     "output_type": "execute_result"
    }
   ],
   "source": [
    "isim = \"Berkay\"\n",
    "id(isim)"
   ]
  },
  {
   "cell_type": "markdown",
   "id": "6aa261df-3214-4e5e-b1fd-1291e1c3bd2f",
   "metadata": {},
   "source": [
    "Direkt bu konuyu okumanız daha iyi olacaktır diye düşünüyorum.\n",
    "\n",
    "https://python-istihza.yazbel.com/islecler.html#kimlik-islecleri"
   ]
  }
 ],
 "metadata": {
  "kernelspec": {
   "display_name": "Python 3 (ipykernel)",
   "language": "python",
   "name": "python3"
  },
  "language_info": {
   "codemirror_mode": {
    "name": "ipython",
    "version": 3
   },
   "file_extension": ".py",
   "mimetype": "text/x-python",
   "name": "python",
   "nbconvert_exporter": "python",
   "pygments_lexer": "ipython3",
   "version": "3.9.7"
  }
 },
 "nbformat": 4,
 "nbformat_minor": 5
}
