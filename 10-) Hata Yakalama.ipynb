{
 "cells": [
  {
   "cell_type": "markdown",
   "id": "dfde8fba",
   "metadata": {},
   "source": [
    "# Hata Yakalama\n",
    "\n",
    "Şimdiye kadar yazdığımız programlara girdi verirken hep programın istediği formatta girdiler verdik. Yani programımızı hiç patlatmadık. Mesela şimdi şöyle bir program yazdığımızı düşünelim; kullanıcıdan aldığı sayının karesini yazan program."
   ]
  },
  {
   "cell_type": "code",
   "execution_count": 1,
   "id": "65b1b400",
   "metadata": {},
   "outputs": [
    {
     "name": "stdout",
     "output_type": "stream",
     "text": [
      "Karesini öğrenmek istediğiniz sayıyı yazın: 5\n",
      "5 sayısının karesi = 25\n"
     ]
    }
   ],
   "source": [
    "sayı = int(input(\"Karesini öğrenmek istediğiniz sayıyı yazın: \"))\n",
    "\n",
    "print(sayı, \"sayısının karesi =\", sayı**2)"
   ]
  },
  {
   "cell_type": "markdown",
   "id": "e74119f6",
   "metadata": {},
   "source": [
    "Çok güzel çalışıyor değil mi? bir de değer olarak ismimizi girelim."
   ]
  },
  {
   "cell_type": "code",
   "execution_count": 2,
   "id": "ca485895",
   "metadata": {
    "scrolled": true
   },
   "outputs": [
    {
     "name": "stdout",
     "output_type": "stream",
     "text": [
      "Karesini öğrenmek istediğiniz sayıyı yazın: Berkay\n"
     ]
    },
    {
     "ename": "ValueError",
     "evalue": "invalid literal for int() with base 10: 'Berkay'",
     "output_type": "error",
     "traceback": [
      "\u001b[1;31m---------------------------------------------------------------------------\u001b[0m",
      "\u001b[1;31mValueError\u001b[0m                                Traceback (most recent call last)",
      "\u001b[1;32m~\\AppData\\Local\\Temp/ipykernel_3236/1340770348.py\u001b[0m in \u001b[0;36m<module>\u001b[1;34m\u001b[0m\n\u001b[1;32m----> 1\u001b[1;33m \u001b[0msayı\u001b[0m \u001b[1;33m=\u001b[0m \u001b[0mint\u001b[0m\u001b[1;33m(\u001b[0m\u001b[0minput\u001b[0m\u001b[1;33m(\u001b[0m\u001b[1;34m\"Karesini öğrenmek istediğiniz sayıyı yazın: \"\u001b[0m\u001b[1;33m)\u001b[0m\u001b[1;33m)\u001b[0m\u001b[1;33m\u001b[0m\u001b[1;33m\u001b[0m\u001b[0m\n\u001b[0m\u001b[0;32m      2\u001b[0m \u001b[1;33m\u001b[0m\u001b[0m\n\u001b[0;32m      3\u001b[0m \u001b[0mprint\u001b[0m\u001b[1;33m(\u001b[0m\u001b[0msayı\u001b[0m\u001b[1;33m,\u001b[0m \u001b[1;34m\"sayısının karesi =\"\u001b[0m\u001b[1;33m,\u001b[0m \u001b[0msayı\u001b[0m\u001b[1;33m**\u001b[0m\u001b[1;36m2\u001b[0m\u001b[1;33m)\u001b[0m\u001b[1;33m\u001b[0m\u001b[1;33m\u001b[0m\u001b[0m\n",
      "\u001b[1;31mValueError\u001b[0m: invalid literal for int() with base 10: 'Berkay'"
     ]
    }
   ],
   "source": [
    "sayı = int(input(\"Karesini öğrenmek istediğiniz sayıyı yazın: \"))\n",
    "\n",
    "print(sayı, \"sayısının karesi =\", sayı**2)"
   ]
  },
  {
   "cell_type": "markdown",
   "id": "dd60ccfe",
   "metadata": {},
   "source": [
    "Hoppalaa... Hata! Program patladı, neden? Çünkü istenilen formatta değer girmedik.\n",
    "\n",
    "Şimdi biz istiyoruz ki programımız böyle bir hata vermesin de bir hata mesajı yazsın. İşte burada `try.. except..` işin içine giriyor. Hemen nasıl kullanıldığına bakalım."
   ]
  },
  {
   "cell_type": "code",
   "execution_count": 6,
   "id": "254765d5",
   "metadata": {},
   "outputs": [
    {
     "name": "stdout",
     "output_type": "stream",
     "text": [
      "Karesini öğrenmek istediğiniz sayıyı yazın: berkay\n",
      "Lütfen sadece sayı girin!\n"
     ]
    }
   ],
   "source": [
    "try:\n",
    "    sayı = int(input(\"Karesini öğrenmek istediğiniz sayıyı yazın: \"))\n",
    "    print(sayı, \"sayısının karesi =\", sayı**2)\n",
    "    \n",
    "except ValueError:\n",
    "    print(\"Lütfen sadece sayı girin!\")"
   ]
  },
  {
   "cell_type": "markdown",
   "id": "1694f368",
   "metadata": {},
   "source": [
    "Sentaksı nasılmış?\n",
    "\n",
    "```\n",
    "try:\n",
    "    hata_içerebilecek_kodlar...\n",
    "    \n",
    "except hata_adı:\n",
    "    hata_durumunda_yapılacak_işlem...\n",
    "```\n",
    "\n",
    "bir örnek daha yapalım."
   ]
  },
  {
   "cell_type": "code",
   "execution_count": 9,
   "id": "056d0bf3",
   "metadata": {},
   "outputs": [
    {
     "name": "stdout",
     "output_type": "stream",
     "text": [
      "Bölmek istediğiniz sayıyı girin: merhaba\n",
      "Bölecek sayıyı girin: 123\n",
      "Lütfen sadece sayı girin!\n"
     ]
    }
   ],
   "source": [
    "bölünen = input(\"Bölmek istediğiniz sayıyı girin: \")\n",
    "bölen = input(\"Bölecek sayıyı girin: \")\n",
    "\n",
    "try:\n",
    "    sonuc = int(bölünen) / int(bölen)\n",
    "    print(\"İşleminizin cevabı =\", sonuc)\n",
    "except ValueError:\n",
    "    print(\"Lütfen sadece sayı girin!\")"
   ]
  },
  {
   "cell_type": "markdown",
   "id": "91563012",
   "metadata": {},
   "source": [
    "gayet güzel çalışıyor ama hata alabileceğimiz bir durum daha var burada -> sayı / 0 durumunu da kontrol etmemiz gerekiyor."
   ]
  },
  {
   "cell_type": "code",
   "execution_count": 10,
   "id": "f40c93bd",
   "metadata": {},
   "outputs": [
    {
     "name": "stdout",
     "output_type": "stream",
     "text": [
      "Bölmek istediğiniz sayıyı girin: 123\n",
      "Bölecek sayıyı girin: 0\n",
      "Herhangi bir sayı 0'a bölünmez, lütfen farklı bir sayı girin!\n"
     ]
    }
   ],
   "source": [
    "bölünen = input(\"Bölmek istediğiniz sayıyı girin: \")\n",
    "bölen = input(\"Bölecek sayıyı girin: \")\n",
    "\n",
    "try:\n",
    "    sonuc = int(bölünen) / int(bölen)\n",
    "    print(\"İşleminizin cevabı =\", sonuc)\n",
    "    \n",
    "except ZeroDivisionError:\n",
    "    print(\"Herhangi bir sayı 0'a bölünmez, lütfen farklı bir sayı girin!\")\n",
    "except ValueError:\n",
    "    print(\"Lütfen sadece sayı girin!\")"
   ]
  },
  {
   "cell_type": "markdown",
   "id": "01f428b8",
   "metadata": {},
   "source": [
    "Bunları böyle ayrı ayrı yazmak yerine şu şekilde toplu bir hata mesajı da verebiliriz."
   ]
  },
  {
   "cell_type": "code",
   "execution_count": 12,
   "id": "89fa9a75",
   "metadata": {},
   "outputs": [
    {
     "name": "stdout",
     "output_type": "stream",
     "text": [
      "Bölmek istediğiniz sayıyı girin: 121\n",
      "Bölecek sayıyı girin: 0\n",
      "Bir hata oluştu!\n"
     ]
    }
   ],
   "source": [
    "bölünen = input(\"Bölmek istediğiniz sayıyı girin: \")\n",
    "bölen = input(\"Bölecek sayıyı girin: \")\n",
    "\n",
    "try:\n",
    "    sonuc = int(bölünen) / int(bölen)\n",
    "    print(\"İşleminizin cevabı =\", sonuc)\n",
    "    \n",
    "except (ZeroDivisionError, ValueError):\n",
    "    print(\"Bir hata oluştu!\")"
   ]
  },
  {
   "cell_type": "markdown",
   "id": "033df7eb",
   "metadata": {},
   "source": [
    "Şimdi diyelim ki kullanıcı hatalı bir işlem yaptı ve programımızı bu şekilde patlattı, ona kendi hata mesajımızı verebiliyoruz ama bir de bunun yanında orijinal hata mesajını da verebiliriz. Bu sayede kullanıcı orijinal hata mesajını da okuyup araştırabilir ve nasıl bir hata yaşandığının farkına varabilir.\n",
    "\n",
    "Bunun için `try... except... as...` yapısını kullanıyoruz"
   ]
  },
  {
   "cell_type": "code",
   "execution_count": 13,
   "id": "4935e336",
   "metadata": {},
   "outputs": [
    {
     "name": "stdout",
     "output_type": "stream",
     "text": [
      "Bölmek istediğiniz sayıyı girin: 123\n",
      "Bölecek sayıyı girin: 0\n",
      "Bir hata oluştu!\n",
      "Orijinal hata mesajı = division by zero\n"
     ]
    }
   ],
   "source": [
    "bölünen = input(\"Bölmek istediğiniz sayıyı girin: \")\n",
    "bölen = input(\"Bölecek sayıyı girin: \")\n",
    "\n",
    "try:\n",
    "    sonuc = int(bölünen) / int(bölen)\n",
    "    print(\"İşleminizin cevabı =\", sonuc)\n",
    "    \n",
    "except (ZeroDivisionError, ValueError) as hata:\n",
    "    print(\"Bir hata oluştu!\")\n",
    "    print(\"Orijinal hata mesajı =\", hata)"
   ]
  },
  {
   "cell_type": "markdown",
   "id": "29274019",
   "metadata": {},
   "source": [
    "Evet, bu sayede kullanıcı orijinal hatayı da görebiliyor."
   ]
  },
  {
   "cell_type": "markdown",
   "id": "38a4db93",
   "metadata": {},
   "source": [
    "Bir de `try... except... finally...` yapısı var. Burada da `finally` sayesinde program bittiğinde hata olsa da olmasa da yapılacak bir işlem varsa onu yazıp çalıştırabiliyoruz."
   ]
  },
  {
   "cell_type": "code",
   "execution_count": 14,
   "id": "c59ce749",
   "metadata": {},
   "outputs": [
    {
     "name": "stdout",
     "output_type": "stream",
     "text": [
      "Bölmek istediğiniz sayıyı girin: 12\n",
      "Bölecek sayıyı girin: 3\n",
      "İşleminizin cevabı = 4.0\n",
      "Programımızı kullandığınız için teşekkürler...\n"
     ]
    }
   ],
   "source": [
    "bölünen = input(\"Bölmek istediğiniz sayıyı girin: \")\n",
    "bölen = input(\"Bölecek sayıyı girin: \")\n",
    "\n",
    "try:\n",
    "    sonuc = int(bölünen) / int(bölen)\n",
    "    print(\"İşleminizin cevabı =\", sonuc)\n",
    "    \n",
    "except (ZeroDivisionError, ValueError) as hata:\n",
    "    print(\"Bir hata oluştu!\")\n",
    "    print(\"Orijinal hata mesajı =\", hata)\n",
    "\n",
    "finally:\n",
    "    print(\"Programımızı kullandığınız için teşekkürler...\")"
   ]
  },
  {
   "cell_type": "markdown",
   "id": "662a6de1",
   "metadata": {},
   "source": [
    "### Bütün hataları Yakalamak\n",
    "\n",
    "Yazdığımız programda bizim beklemediğimiz ya da hata ismini bilmediğimiz bir hata ile karşılaşabiliriz. Bu sebeple direkt oluşabilecek bütün hataları yakalamak isteyebiliriz. Bunun için şöyle yapıyoruz:"
   ]
  },
  {
   "cell_type": "code",
   "execution_count": 15,
   "id": "90faedca",
   "metadata": {},
   "outputs": [
    {
     "name": "stdout",
     "output_type": "stream",
     "text": [
      "Bölmek istediğiniz sayıyı girin: asd\n",
      "Bölecek sayıyı girin: 123\n",
      "Hata!!!\n"
     ]
    }
   ],
   "source": [
    "bölünen = input(\"Bölmek istediğiniz sayıyı girin: \")\n",
    "bölen = input(\"Bölecek sayıyı girin: \")\n",
    "\n",
    "try:\n",
    "    sonuc = int(bölünen) / int(bölen)\n",
    "    print(\"İşleminizin cevabı =\", sonuc)\n",
    "except:\n",
    "    print(\"Hata!!!\")"
   ]
  },
  {
   "cell_type": "markdown",
   "id": "971883cc",
   "metadata": {},
   "source": [
    "Gördünüz gibi çok basit bir kullanımı var. FAKAT bu kullanım her ne kadar basit, pratik ve göze güzel gelse de aslında öyle değil. Neden? Düşünsenize programınız bir hata vermiş ama ne hatası olduğunu bilmiyorsunuz, hatanın ne olduğunu bilmediğiniz için hataya çözüm de bulamıyorsunuz haliyle."
   ]
  }
 ],
 "metadata": {
  "kernelspec": {
   "display_name": "Python 3 (ipykernel)",
   "language": "python",
   "name": "python3"
  },
  "language_info": {
   "codemirror_mode": {
    "name": "ipython",
    "version": 3
   },
   "file_extension": ".py",
   "mimetype": "text/x-python",
   "name": "python",
   "nbconvert_exporter": "python",
   "pygments_lexer": "ipython3",
   "version": "3.9.7"
  }
 },
 "nbformat": 4,
 "nbformat_minor": 5
}
