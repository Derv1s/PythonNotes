{
 "cells": [
  {
   "cell_type": "markdown",
   "metadata": {},
   "source": [
    "# print() Fonksiyonu\n",
    "## Nedir? Ne işe yarar?\n",
    "Temel olarak `print()` fonksiyonun görevi bir veriyi **yazdırmak**tır. Nereye yazdıracağını ya da nasıl yazdıracağını siz belirlersiniz. Bu fonksiyonu ilk başlarda ekrana bir şeyler yazdırmak için kullandığımızda amacımız ekrana istediğimiz şeyleri yazdırmak olacaktır ama zaman geçtikçe göreceksiniz ki programların işleyişlerinideki adımları *kontrol etme* amacıyla da kullanmaya başlamışız bu fonksiyonu."
   ]
  },
  {
   "cell_type": "code",
   "execution_count": 1,
   "metadata": {},
   "outputs": [
    {
     "name": "stdout",
     "output_type": "stream",
     "text": [
      "Merhaba Dünya!\n"
     ]
    }
   ],
   "source": [
    "print(\"Merhaba Dünya!\")"
   ]
  },
  {
   "cell_type": "code",
   "execution_count": 2,
   "metadata": {},
   "outputs": [
    {
     "name": "stdout",
     "output_type": "stream",
     "text": [
      "123\n"
     ]
    }
   ],
   "source": [
    "print(123)"
   ]
  },
  {
   "cell_type": "code",
   "execution_count": 3,
   "metadata": {},
   "outputs": [
    {
     "name": "stdout",
     "output_type": "stream",
     "text": [
      "123\n"
     ]
    }
   ],
   "source": [
    "print(\"123\")"
   ]
  },
  {
   "cell_type": "markdown",
   "metadata": {},
   "source": [
    "Bu ikisinin farkını artık biliyoruz. Biri sayı olan yüz yirmi üç diğeri string olan 123."
   ]
  },
  {
   "cell_type": "markdown",
   "metadata": {},
   "source": [
    "Yukarıda dediğimiz gibi \"**veri**\" yazdırabiliyoruz. Yani şöyle şeyler de yapabiliriz:"
   ]
  },
  {
   "cell_type": "code",
   "execution_count": 4,
   "metadata": {},
   "outputs": [
    {
     "name": "stdout",
     "output_type": "stream",
     "text": [
      "Merhaba, ben bir değişkenim :D\n"
     ]
    }
   ],
   "source": [
    "degisken = \"Merhaba, ben bir değişkenim :D\"\n",
    "\n",
    "print(degisken)"
   ]
  },
  {
   "cell_type": "code",
   "execution_count": 5,
   "metadata": {},
   "outputs": [
    {
     "name": "stdout",
     "output_type": "stream",
     "text": [
      "35\n"
     ]
    }
   ],
   "source": [
    "print(12 + 23)"
   ]
  },
  {
   "cell_type": "code",
   "execution_count": 6,
   "metadata": {},
   "outputs": [
    {
     "name": "stdout",
     "output_type": "stream",
     "text": [
      "Merhaba Dünya\n"
     ]
    }
   ],
   "source": [
    "print(\"Merhaba \" + \"Dünya\") # \"Merhaba\"dan sonra bir boşluk var"
   ]
  },
  {
   "cell_type": "code",
   "execution_count": 11,
   "metadata": {},
   "outputs": [
    {
     "name": "stdout",
     "output_type": "stream",
     "text": [
      "azar azar kader bize ne yazar\n"
     ]
    }
   ],
   "source": [
    "print(\"azar \" * 2 + \"kader bize ne yazar\")"
   ]
  },
  {
   "cell_type": "markdown",
   "metadata": {},
   "source": [
    "Görüldüğü üzere `print()` fonksiyonu içerisinde çeşitli işlemler yapıp, işlemin sonucunu da ekrana basabiliyoruz."
   ]
  },
  {
   "cell_type": "markdown",
   "metadata": {},
   "source": [
    "Karakter dizilerinde tek tırnak, çift tırnak ve üç tırnak ifadelerini görmüştük. Bunları `print()` içerisinde şu şekillerde kullanabiliyoruz:"
   ]
  },
  {
   "cell_type": "code",
   "execution_count": 12,
   "metadata": {},
   "outputs": [
    {
     "name": "stdout",
     "output_type": "stream",
     "text": [
      "tek tırnak ile yazma\n"
     ]
    }
   ],
   "source": [
    "print('tek tırnak ile yazma')"
   ]
  },
  {
   "cell_type": "code",
   "execution_count": 13,
   "metadata": {},
   "outputs": [
    {
     "name": "stdout",
     "output_type": "stream",
     "text": [
      "çift tırnak ile yazma\n"
     ]
    }
   ],
   "source": [
    "print(\"çift tırnak ile yazma\")"
   ]
  },
  {
   "cell_type": "code",
   "execution_count": 15,
   "metadata": {},
   "outputs": [
    {
     "name": "stdout",
     "output_type": "stream",
     "text": [
      "üç tırnak ile yazma\n"
     ]
    }
   ],
   "source": [
    "print(\"\"\"üç tırnak ile yazma\"\"\")"
   ]
  },
  {
   "cell_type": "markdown",
   "metadata": {},
   "source": [
    "Görüldüğü üzere çıktıların arasında fark yok. O zaman neden var bu farklılık? diye sorabilirsiniz. O farklılığı şöyle bir örnekle anlatmaya çalışayım. Diyelim ki ekrana şöyle bir çıktı vermek istiyoruz:\n",
    "\n",
    "İstanbul'da yaşıyorum.\n",
    "\n",
    "Bunu nasıl yaparız?"
   ]
  },
  {
   "cell_type": "code",
   "execution_count": 16,
   "metadata": {},
   "outputs": [
    {
     "ename": "SyntaxError",
     "evalue": "invalid syntax (<ipython-input-16-0a551cdad21b>, line 1)",
     "output_type": "error",
     "traceback": [
      "\u001b[1;36m  File \u001b[1;32m\"<ipython-input-16-0a551cdad21b>\"\u001b[1;36m, line \u001b[1;32m1\u001b[0m\n\u001b[1;33m    print('İstanbul'da yaşıyorum')\u001b[0m\n\u001b[1;37m                    ^\u001b[0m\n\u001b[1;31mSyntaxError\u001b[0m\u001b[1;31m:\u001b[0m invalid syntax\n"
     ]
    }
   ],
   "source": [
    "print('İstanbul'da yaşıyorum')"
   ]
  },
  {
   "cell_type": "markdown",
   "metadata": {},
   "source": [
    "Sentaks, yani sözdizimi hatası verdi, demek ki bir şeyleri yanlış yazmışız. O zaman şunu deneyelim:"
   ]
  },
  {
   "cell_type": "code",
   "execution_count": 17,
   "metadata": {},
   "outputs": [
    {
     "name": "stdout",
     "output_type": "stream",
     "text": [
      "İstanbul'da yaşıyorum\n"
     ]
    }
   ],
   "source": [
    "print(\"İstanbul'da yaşıyorum\")"
   ]
  },
  {
   "cell_type": "markdown",
   "metadata": {},
   "source": [
    "Görüldüğü gibi doğru bir şekilde çalıştı."
   ]
  },
  {
   "cell_type": "markdown",
   "metadata": {},
   "source": [
    "Yine şöyle benzer bir örnek vermek istediğimizi düşünelim. Bu sefer de çıktı olarak şunu istiyoruz:\n",
    "\n",
    "\"To stop talking about what the good man is like, and just be one.\" Marcus Aurelius."
   ]
  },
  {
   "cell_type": "code",
   "execution_count": 18,
   "metadata": {},
   "outputs": [
    {
     "ename": "SyntaxError",
     "evalue": "invalid syntax (<ipython-input-18-5d84fd3ad9a1>, line 1)",
     "output_type": "error",
     "traceback": [
      "\u001b[1;36m  File \u001b[1;32m\"<ipython-input-18-5d84fd3ad9a1>\"\u001b[1;36m, line \u001b[1;32m1\u001b[0m\n\u001b[1;33m    print(\"\"To stop talking about what the good man is like, and just be one.\" Marcus Aurelius.\")\u001b[0m\n\u001b[1;37m            ^\u001b[0m\n\u001b[1;31mSyntaxError\u001b[0m\u001b[1;31m:\u001b[0m invalid syntax\n"
     ]
    }
   ],
   "source": [
    "print(\"\"To stop talking about what the good man is like, and just be one.\" Marcus Aurelius.\")"
   ]
  },
  {
   "cell_type": "markdown",
   "metadata": {},
   "source": [
    "Çift tırnak içine istediğimi yazdık ama yine hata aldık, demek ki yine bir yanlışlık var ortada. Şöyle bir güncelleme yapalım:"
   ]
  },
  {
   "cell_type": "code",
   "execution_count": 19,
   "metadata": {},
   "outputs": [
    {
     "name": "stdout",
     "output_type": "stream",
     "text": [
      "\"To stop talking about what the good man is like, and just be one.\" Marcus Aurelius.\n"
     ]
    }
   ],
   "source": [
    "print('\"To stop talking about what the good man is like, and just be one.\" Marcus Aurelius.')"
   ]
  },
  {
   "cell_type": "markdown",
   "metadata": {},
   "source": [
    "Heh! Bu sefer istediğimiz çıktıyı aldık. Yaptığımız şey ise istediğimiz yazıyı tek tırnak içerisine yazmak oldu."
   ]
  },
  {
   "cell_type": "markdown",
   "metadata": {},
   "source": [
    "Bu olayın aslında şöyle bir mantığı var:\n",
    "\n",
    "1-) Python `print()` komutunu okuyor.\n",
    "\n",
    "2-) Parantezlerin içine girip ilk karakteri okuyor.\n",
    "\n",
    "3-) Eğer ilk karakter çift tırnak (\") ise diyor ki:\n",
    "\n",
    "3.1-) \"Hmm, çift tırnak ile giriş yaptık, çift tırnak ile kapanış yapacağız\" \n",
    "\n",
    "3.2-) \"Kodu yazan kişi ekrana yazdırmak yazıyı iki çift tırnak içerisinde yazdıracak\"\n",
    "\n",
    "3.3-) \"İlk çift tırnağı okudum, ikinci çift tırnağı gördüğüm anda içerideki yazıyı yazdırırım\""
   ]
  },
  {
   "cell_type": "markdown",
   "metadata": {},
   "source": [
    "Şimdi hata veren kodu inceleyelim:\n",
    "\n",
    "`print(\"\"To stop talking about what the good man is like, and just be one.\" Marcus Aurelius.\")`\n",
    "\n",
    "`print()` in içine giriyor, ilk çift tırnağı görüyor ve ikinci çift tırnağı gördüğü anda diyor ki \"iki çift tırnak arasında kalan yazıyı yazayım\" ama burada bakdığımız zaman iki çift tırnak arasında yazı yok! `print(\"\"To st..` şekilde bir kod var ve iki çift tırnak arası boşluk :D. İşte tırnak kullanımının mantığı bu."
   ]
  },
  {
   "cell_type": "markdown",
   "metadata": {},
   "source": [
    "Yalnız şöyle bir durum var, biraz uzun bir yazı yazdığınızı ve içerisinde birkaç farklı yerde tek tırnak ve çift tırnak kullandığınızı düşünelelim. Böyle bir durumda bu tür değişiklikleri yapmaya çalışmak sizi zorlayabilir. Bu sorunun çözümü için çok güzel bir özellik var, o da **KAÇIŞ KARAKTERİ**. Dikkatle izliyoruz."
   ]
  },
  {
   "cell_type": "code",
   "execution_count": 20,
   "metadata": {},
   "outputs": [
    {
     "name": "stdout",
     "output_type": "stream",
     "text": [
      "\"To stop talking about what the good man is like, and just be one.\" Marcus Aurelius.\n"
     ]
    }
   ],
   "source": [
    "print(\"\\\"To stop talking about what the good man is like, and just be one.\\\" Marcus Aurelius.\")"
   ]
  },
  {
   "cell_type": "markdown",
   "metadata": {},
   "source": [
    "Ters taksim (\\) işareti Python'da **kaçış karakteri** olarak kullanılır. Nedir bu \"**kaçış karakteri**\"?\n",
    "\n",
    "Kaçış karakteri kendisinden sonra gelen karakterin özelliğini o anlık ortadan kaldıran bir karakterdir.\n",
    "\n",
    "Yukarıdaki örnekte alıntı yapılan sözün başındaki ve sonundaki çift tırnakların özelliklerini kaldırdık ve Python onları önceden okuduğu gibi okumayı bıraktı, normal karakter gibi okudu. İleride bu kaçış karakterinin farklı özellikleri olduğunu da göreceğiz ama şu anın konusu değil."
   ]
  },
  {
   "cell_type": "markdown",
   "metadata": {},
   "source": [
    "Bir de `print()` üç tırnak kullanımına bakalım:"
   ]
  },
  {
   "cell_type": "code",
   "execution_count": 21,
   "metadata": {},
   "outputs": [
    {
     "name": "stdout",
     "output_type": "stream",
     "text": [
      "Merhaba Dünya!\n"
     ]
    }
   ],
   "source": [
    "print(\"\"\"Merhaba Dünya!\"\"\")"
   ]
  },
  {
   "cell_type": "code",
   "execution_count": 22,
   "metadata": {},
   "outputs": [
    {
     "name": "stdout",
     "output_type": "stream",
     "text": [
      "Merhaba günlük...\n",
      "Bugün Python'da print() fonksiyonu ile ilgili bir şeyler öğrendim.\n",
      "Gelişim sürecim gayet güzel gidiyor. İstikrarlı bir şekilde öğrenmeye \n",
      "devam ettiğim sürece gelişimim kaçınılmaz olacaktır. Öğrendiğim şeyleri\n",
      "bol bol pratik yaparak pekiştiriyorum.\n"
     ]
    }
   ],
   "source": [
    "print(\"\"\"Merhaba günlük...\n",
    "Bugün Python'da print() fonksiyonu ile ilgili bir şeyler öğrendim.\n",
    "Gelişim sürecim gayet güzel gidiyor. İstikrarlı bir şekilde öğrenmeye \n",
    "devam ettiğim sürece gelişimim kaçınılmaz olacaktır. Öğrendiğim şeyleri\n",
    "bol bol pratik yaparak pekiştiriyorum.\"\"\")"
   ]
  },
  {
   "cell_type": "markdown",
   "metadata": {},
   "source": [
    "Sanırım farkı anlamışızdır. Üç tırnak içersine karakter dizilerini yazarken \"Enter\" tuşu kullanarak alt satıra atlayıp yazmaya oradan devam edebiliyoruz."
   ]
  },
  {
   "cell_type": "markdown",
   "metadata": {},
   "source": [
    "### Bir fonksiyon olarak `print()`"
   ]
  },
  {
   "cell_type": "markdown",
   "metadata": {},
   "source": [
    "Daha önceki konularda `pow()` fonksiyonunu görmüştük, `print()` de bir fonksiyondur aynı `pow()` gibi birden fazla değer alabilir. Mesela şu şekilde:"
   ]
  },
  {
   "cell_type": "code",
   "execution_count": 25,
   "metadata": {},
   "outputs": [
    {
     "name": "stdout",
     "output_type": "stream",
     "text": [
      "Merhaba Dünya!\n",
      "Selam Ahmet\n"
     ]
    }
   ],
   "source": [
    "deger1 = \"Merhaba\"\n",
    "deger2 = \"Dünya!\"\n",
    "\n",
    "print(deger1 , deger2)\n",
    "\n",
    "print(\"Selam\", \"Ahmet\")"
   ]
  },
  {
   "cell_type": "markdown",
   "metadata": {},
   "source": [
    "Demek ki değerlerin arasına virgül koyup birden fazla değer yazabiliyormuşuz. Ve burada önemli başka bir şey ise virgül kullanarak yazdığımız değerlerin arasına Python bir boşluk karakteri koyuyor. Bu da son derece önemli bir bilgidir. Değerini ileride anlayacağız."
   ]
  },
  {
   "cell_type": "markdown",
   "metadata": {},
   "source": [
    "### `print()` Fonksiyonunun Parametreleri"
   ]
  },
  {
   "cell_type": "markdown",
   "metadata": {},
   "source": [
    "##### 1-) sep"
   ]
  },
  {
   "cell_type": "markdown",
   "metadata": {},
   "source": [
    "Az yukarıda araya virgül koyduğumuzda Python verilerin arasına otomatik olarak boşluk karakteri koyuyordu. İşte `sep` parametresi ile bunu değiştirebiliyoruz."
   ]
  },
  {
   "cell_type": "code",
   "execution_count": 28,
   "metadata": {},
   "outputs": [
    {
     "name": "stdout",
     "output_type": "stream",
     "text": [
      "www. google .com\n"
     ]
    }
   ],
   "source": [
    "print(\"www.\", \"google\", \".com\") # varsayılan sep değeri --> \" \" karakteri"
   ]
  },
  {
   "cell_type": "code",
   "execution_count": 30,
   "metadata": {},
   "outputs": [
    {
     "name": "stdout",
     "output_type": "stream",
     "text": [
      "www.google.com\n"
     ]
    }
   ],
   "source": [
    "print(\"www.\", \"google\", \".com\", sep=\"\") # bunu değiştiriyoruz"
   ]
  },
  {
   "cell_type": "markdown",
   "metadata": {},
   "source": [
    "Bir örnek daha verelim."
   ]
  },
  {
   "cell_type": "code",
   "execution_count": 31,
   "metadata": {},
   "outputs": [
    {
     "name": "stdout",
     "output_type": "stream",
     "text": [
      "11.22.63\n"
     ]
    }
   ],
   "source": [
    "print(\"11\", \"22\", \"63\", sep=\".\")"
   ]
  },
  {
   "cell_type": "markdown",
   "metadata": {},
   "source": [
    "Yani `sep` ile bir nevi aralarda virgüle istenilen değeri atıyoruz gibi bir şey. Anladın sen onu."
   ]
  },
  {
   "cell_type": "markdown",
   "metadata": {},
   "source": [
    "Gelin isterseniz bu parametreyle ilgili bir örnek daha yapalım:\n",
    "\n",
    "‘Bir mumdur iki mumdur…’ diye başlayan türküyü biliyorsunuzdur. Şimdi bu türküyü Python’la nasıl yazabileceğimizi görelim!"
   ]
  },
  {
   "cell_type": "code",
   "execution_count": 34,
   "metadata": {},
   "outputs": [
    {
     "name": "stdout",
     "output_type": "stream",
     "text": [
      "bir mumdur iki mumdur üç mumdur dört mumdur ondört\n"
     ]
    }
   ],
   "source": [
    "print(\"bir\", \"iki\", \"üç\", \"dört\", \"ondört\", sep=\" mumdur \")"
   ]
  },
  {
   "cell_type": "markdown",
   "metadata": {},
   "source": [
    "sonda bir tane daha \"mumdur\" olması lazım ama yazmadı, neden? Çünkü biz aralardaki değerleri belirliyoruz, sondaki değeri değil."
   ]
  },
  {
   "cell_type": "markdown",
   "metadata": {},
   "source": [
    "Peki bilin bakalım Python'da bunun için bir parametre var mı? Tabi ki var :D. \n",
    "\n",
    "`end` Parametresi:"
   ]
  },
  {
   "cell_type": "markdown",
   "metadata": {},
   "source": [
    "##### 2-) end"
   ]
  },
  {
   "cell_type": "code",
   "execution_count": 35,
   "metadata": {
    "scrolled": true
   },
   "outputs": [
    {
     "name": "stdout",
     "output_type": "stream",
     "text": [
      "bir mumdur iki mumdur üç mumdur dört mumdur ondört mumdur"
     ]
    }
   ],
   "source": [
    "print(\"bir\", \"iki\", \"üç\", \"dört\", \"ondört\", sep=\" mumdur \", end=\" mumdur\")"
   ]
  },
  {
   "cell_type": "markdown",
   "metadata": {},
   "source": [
    "Adından da anlaşılacağı üzere `end` parametresi `print()` in içerisinde yazdırılacak şeyin sonuna ne konulacağını belirlememizi sağlar. Bu değerin de varsayılan durumu \"\\n\" değeridir ve bu \"sonraki satıra atlamak\" için kullanılır. (ters taksim ile üretilen bu özelliği ileride göreceğiz.)"
   ]
  },
  {
   "cell_type": "code",
   "execution_count": 42,
   "metadata": {},
   "outputs": [
    {
     "name": "stdout",
     "output_type": "stream",
     "text": [
      "Merhaba \n",
      " Dünya\n"
     ]
    }
   ],
   "source": [
    "print(\"Merhaba \\n Dünya\") # \\n gördüğü yerde alt satıra geçti, bir boşluk bıraktı ve \"Dünya\" yazdı"
   ]
  },
  {
   "cell_type": "code",
   "execution_count": 37,
   "metadata": {},
   "outputs": [
    {
     "name": "stdout",
     "output_type": "stream",
     "text": [
      "varsayılan end ile yazılmış!\n",
      "değiştirilen end ile yazılmış!test ediyoruz.\n"
     ]
    }
   ],
   "source": [
    "print(\"varsayılan end ile yazılmış!\")\n",
    "print(\"değiştirilen end ile yazılmış!\", end=\"\")\n",
    "print(\"test ediyoruz.\")"
   ]
  },
  {
   "cell_type": "markdown",
   "metadata": {},
   "source": [
    "Gördüğünüz gibi \"test ediyoruz\" yazısı \"end\" parametresini değiştirdiğimiz `print()` fonksiyonunun içindeki veriden hemen sonra yazıldı. İçerisinde \"değiştirilen end ile yazılmış!\" yazısı ise ikinci satırda yazıldı yani düzenleme yapmadığımız `print()` fonksiyonundan sonra. Umarım anlaşılmıştır."
   ]
  },
  {
   "cell_type": "markdown",
   "metadata": {},
   "source": [
    "**Önemli Not: sep parametresi ve end parametresinin değeri de sadece bir karakter dizisi veya None olabilir, sayı alamaz !!!**"
   ]
  },
  {
   "cell_type": "markdown",
   "metadata": {},
   "source": [
    "##### 3-) file"
   ]
  },
  {
   "cell_type": "markdown",
   "metadata": {},
   "source": [
    "Bu parametre print içine yazılan verinin nereye yazdırılacağını belirler.\n",
    "\n",
    "Varsayılan değeri `sys.stdout`tur. \"Ne anlama geliyor bu?\" derseniz, \"standart çıktı konumu\" anlamına gelir. Peki ama bu ne demek :D?\n",
    "\n",
    "Standart çıktı konumu; bir programın, ürettiği çıktıları verdiği yerdir. Aslında bu kavramın ne demek olduğu adından da anlaşılıyor:\n",
    "\n",
    "standart çıktı konumu = çıktıların standart olarak verildiği konum."
   ]
  },
  {
   "cell_type": "markdown",
   "metadata": {},
   "source": [
    "Normalde `print()` ile yazdırdığımız şey direkt önümüze yazdırılıyor, gelin bunu değiştirelim ve \"`print_file_deneme.txt`\" adında bir dosyaya yazdıralım.\n",
    "\n",
    "Bunun için sırasıyla şu kodları yazmamız gerekiyor:"
   ]
  },
  {
   "cell_type": "code",
   "execution_count": 45,
   "metadata": {},
   "outputs": [],
   "source": [
    "dosya = open(\"print_file_deneme.txt\", \"w\") # open() ne? \"w\" ne? diye sormanız çok doğal, ileride öğreneceğiz.\n",
    "\n",
    "print(\"Merhaba deneme text dosyası!\", file=dosya)\n",
    "\n",
    "dosya.close()"
   ]
  },
  {
   "cell_type": "markdown",
   "metadata": {},
   "source": [
    "Bu kodları çalıştırdığımızda ekrana bir çıktı vermediğini görüyoruz, neden? Çünkü istenilen çıktının yazılacağı yeri değiştirdik. Peki nerede bizim çıktımız? Bu kodları hangi dosya dizininde yazıyorsanız orada. Örneğin benim `C:\\Users\\berka\\Desktop\\Python Notlarım` dosyamın içerisinde.\n",
    "\n",
    "Bunu nasıl öğrenebiliriz? Şu kodlar yardımıyla:"
   ]
  },
  {
   "cell_type": "code",
   "execution_count": 47,
   "metadata": {},
   "outputs": [
    {
     "data": {
      "text/plain": [
       "'C:\\\\Users\\\\berka\\\\Desktop\\\\Python Notlarım'"
      ]
     },
     "execution_count": 47,
     "metadata": {},
     "output_type": "execute_result"
    }
   ],
   "source": [
    "import os\n",
    "os.getcwd()"
   ]
  },
  {
   "cell_type": "markdown",
   "metadata": {},
   "source": [
    "Gördüğünüz gibi ben kodları bu dizinde yazdığım için bende böyle bir sonuç çıktı, sizde muhtemelen farklı olacaktır."
   ]
  },
  {
   "cell_type": "markdown",
   "metadata": {},
   "source": [
    "##### 4-) flush"
   ]
  },
  {
   "cell_type": "markdown",
   "metadata": {},
   "source": [
    "Biliyoruz ki `print()` kullanarak bir şeyler yazdırmak istediğimizde Python, yazdırmak istediğimiz bilgiyi standart çıktı konumuna gönderir. Ancak Python’da bazı işlemler standart çıktı konumuna gönderilmeden önce bir süre tamponda bekletilir ve daha sonra bekleyen bu işlemler topluca standart çıktı konumuna gönderilir. Peki ilk başta çok karmaşıkmış gibi görünen bu ifade ne anlama geliyor?\n",
    "\n",
    "Örnekle açıklayamaya çalışalım:"
   ]
  },
  {
   "cell_type": "code",
   "execution_count": 48,
   "metadata": {},
   "outputs": [],
   "source": [
    "f = open(\"print_flush_deneme.txt\", \"w\")\n",
    "\n",
    "print(\"İzlediğim Diziler:\", file=f)\n",
    "print(\"Breaking Bad\", file=f)\n",
    "print(\"Vikings\", file=f)\n",
    "print(\"Game of Thrones\", file=f)\n",
    "\n",
    "# .close() kullanmadan yani dosyayı kapatmadan çalıştıralım çalıştıralım"
   ]
  },
  {
   "cell_type": "markdown",
   "metadata": {},
   "source": [
    "`print_flush_deneme.txt` dosyasını kontrol ettiğimizde dosyanın boş olduğunu görüyoruz. Ama nasıl? Python yaptığımız işlemleri tampona aldı, yani hala bir şeyler yapıp yapmayacağımızı bekliyor ve işimizin bittiğini söylediğimizde o da verileri işlemeye başlayacak. Bunun için `f.close()` komutunu veriyoruz."
   ]
  },
  {
   "cell_type": "code",
   "execution_count": 49,
   "metadata": {},
   "outputs": [],
   "source": [
    "f.close()"
   ]
  },
  {
   "cell_type": "markdown",
   "metadata": {},
   "source": [
    "Şimdi kontrol edelim. Eveeet, izlediğimiz diziler dosyaya yazılmış. İşte burada `flush` değeri rol alıyor. `flush` değeri varsayılan olarak `flush=False` dır, yani verileri direkt yazmanıza izin vermez, tamponda bekletir. Şimdi bu değeri elimizle `True` yapalım ve öyle deneyelim. "
   ]
  },
  {
   "cell_type": "code",
   "execution_count": 50,
   "metadata": {},
   "outputs": [],
   "source": [
    "f = open(\"print_flush_True_deneme.txt\", \"w\") # İsme dikkat! Üstteki ile aynı dosya değil, yeni bir dosya oluşturuyoruz\n",
    "\n",
    "print(\"İzlediğim Diziler:\", file=f, flush=True)\n",
    "print(\"Breaking Bad\", file=f, flush=True)\n",
    "print(\"Vikings\", file=f, flush=True)\n",
    "print(\"Game of Thrones\", file=f, flush=True)"
   ]
  },
  {
   "cell_type": "markdown",
   "metadata": {},
   "source": [
    "Şimdi yeni oluşturduğumuz dosyayı kontrol ediyoruz, daha `.close()` yazmadık ama verilerimiz dosyaya yazılmış. İşte `flush=True` parametresi sayesinde verileri hiç tamponda tutmayıp direkt dosya yazıyoruz."
   ]
  },
  {
   "cell_type": "markdown",
   "metadata": {},
   "source": [
    "##### sys.stdout’u Kalıcı Olarak Değiştirmek"
   ]
  },
  {
   "cell_type": "markdown",
   "metadata": {},
   "source": [
    "Örneğin bir proje üstünde çalışıyorsunuz ve `print()` ile yazdığınız bilgilerin ekrana değil de bir dosyaya yazdırılmasını istiyorsunuz. Artık bunun nasıl yapıldığını biliyoruz; `print(..., file=dosya)` şekilde bunu yapabiliyoruz lakin her print için `file` parametresini değiştirmemiz gerekiyor. Bu da istemediğimiz bir durum. Hadi bunu nasıl değiştirebileceğimizi öğrenelim.\n",
    "\n",
    "İlk önce şöyle bir kod yazalım:"
   ]
  },
  {
   "cell_type": "code",
   "execution_count": 51,
   "metadata": {},
   "outputs": [],
   "source": [
    "import sys"
   ]
  },
  {
   "cell_type": "markdown",
   "metadata": {},
   "source": [
    "Bu kod \"sys\" adında bir **kütüphane**yi **içeri aktarma**mızı sağlıyor. Bu sayede o kütüphanedeki özellikleri kullanabiliyoruz.\n",
    "\n",
    "Daha sonra şöyle bir kod yazalım:"
   ]
  },
  {
   "cell_type": "code",
   "execution_count": 53,
   "metadata": {},
   "outputs": [
    {
     "name": "stdout",
     "output_type": "stream",
     "text": [
      "<ipykernel.iostream.OutStream object at 0x00000159C542B040>\n"
     ]
    }
   ],
   "source": [
    "print(sys.stdout)"
   ]
  },
  {
   "cell_type": "markdown",
   "metadata": {},
   "source": [
    "Ben şu anda Jupyter NoteBook kullandığım ve/veya bu dosyanın uzantısı .ipynb olduğu için böyle bir çıktı aldım, VisualStudio Code'da aynı kodu yazdığımda `<_io.TextIOWrapper name='<stdout>' mode='w' encoding='utf-8'>` şekilde bir çıktı alıyorum. Buradaki `<stdout>` kısmı bizim için önemli olan yer, değiştirmek istediğimiz yer orası yani.\n",
    "\n",
    "Şimdi şöyle bir kod yazalım:"
   ]
  },
  {
   "cell_type": "code",
   "execution_count": 3,
   "metadata": {},
   "outputs": [],
   "source": [
    "f = open(\"print_dosya.txt\", \"w\")\n",
    "\n",
    "sys.stdout = f"
   ]
  },
  {
   "cell_type": "markdown",
   "metadata": {},
   "source": [
    "İşte zurnanın zort dediği yer. `sys.stdout` değerini kendi oluşturduğumuz `f` değerine atıyoruz ve artık `print()` le yazdığımız her şey o dosyaya gidecek.\n",
    "\n",
    "Denemek için şöyle bir kod yazıyoruz:"
   ]
  },
  {
   "cell_type": "code",
   "execution_count": 4,
   "metadata": {},
   "outputs": [],
   "source": [
    "print(\"deneme 123 tamam\", flush=True)"
   ]
  },
  {
   "cell_type": "markdown",
   "metadata": {},
   "source": [
    "dosyamızı kontrol ettiğimizde yazdığımız yazının içinde olduğunu görüyoruz ve `print()` içindeki `file` değerini ellemedik.\n",
    "\n",
    "Bir de `print(sys.stdout, flush=True)` kodu ile dosya konumumuzu kontrol edelim."
   ]
  },
  {
   "cell_type": "code",
   "execution_count": 5,
   "metadata": {},
   "outputs": [],
   "source": [
    "print(sys.stdout, flush=True)"
   ]
  },
  {
   "cell_type": "markdown",
   "metadata": {},
   "source": [
    "`dosya.txt`'in içini açtığımız zaman `<_io.TextIOWrapper name='dosya.txt' mode='w' encoding='cp1254'>` yazısının eklendiğini görüyoruz ve `name=` den sonra \"dosya.txt\" yazıyor. Yani işlem başarıyla değiştirilmiş."
   ]
  },
  {
   "cell_type": "markdown",
   "metadata": {},
   "source": [
    "Peki standart çıktı konumunu eski haline döndürmek isterseniz ne yapacaksınız? Bunun için kodları yazdığınız yerden çıkıp tekrar girmeniz yeterli olacaktır. Kodu yazdığınız programı tekrar açtığınızda her şeyin eski haline döndüğünü göreceksiniz. Aynı şekilde, eğer bu kodları bir program dosyasına yazmış olsaydınız, programınız kapandığında her şey eski haline dönecekti."
   ]
  },
  {
   "cell_type": "markdown",
   "metadata": {},
   "source": [
    "Peki standart çıktı konumunu, etkileşimli kabuktan çıkmadan veya programı kapatmadan eski haline döndürmenin bir yolu var mı? Elbette var. Dikkatlice bakın:"
   ]
  },
  {
   "cell_type": "code",
   "execution_count": 6,
   "metadata": {},
   "outputs": [],
   "source": [
    "import sys\n",
    "\n",
    "f = open(\"print_dosya.txt\", \"w\")\n",
    "sys.stdout, f = f, sys.stdout # takas ettik\n",
    "print(\"deneme\", flush=True)\n",
    "\n",
    "f, sys.stdout = sys.stdout, f # yine takas ettik\n",
    "print(\"deneme\")"
   ]
  },
  {
   "cell_type": "markdown",
   "metadata": {},
   "source": [
    "*Eğer yukarıdaki kodları çalıştıramıyorsanız, aynı etkileşimli kabuk oturumunda önceden verdiğiniz kodlar bu kodların doğru çıktı vermesini engelliyor olabilir. Bu sorunu aşmak için, etkileşimli kabuğu kapatıp tekrar açın ve yukarıdaki komutları tekrar verin.*"
   ]
  }
 ],
 "metadata": {
  "kernelspec": {
   "display_name": "Python 3",
   "language": "python",
   "name": "python3"
  },
  "language_info": {
   "codemirror_mode": {
    "name": "ipython",
    "version": 3
   },
   "file_extension": ".py",
   "mimetype": "text/x-python",
   "name": "python",
   "nbconvert_exporter": "python",
   "pygments_lexer": "ipython3",
   "version": "3.8.3"
  }
 },
 "nbformat": 4,
 "nbformat_minor": 4
}
