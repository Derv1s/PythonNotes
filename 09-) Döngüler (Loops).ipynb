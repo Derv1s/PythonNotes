{
 "cells": [
  {
   "cell_type": "markdown",
   "id": "40cded3c",
   "metadata": {},
   "source": [
    "# Döngüler (Loops)\n",
    "Daha önceki programlarımız gayet güzel çalışıyor ama çok önemli bir eksiği var, SADECE BİR KERE çalışıyor. Şimdi bu konu ile ilgili bir önemli bir şeyler öğreneceğiz. Programlarımızı döngüler sayesinde birden çok kez çalıştırmayı öğreneceğiz. Sadece bunu öğrenmeyeceğiz tabi, döngüler çok çok çok önemli bir konu. Çok fazla kullanacağımız bu özelliği çok iyi öğrenmemiz gerekiyor.\n",
    "\n",
    "Python'da iki adet döngü var;\n",
    "\n",
    "- While Döngüsü\n",
    "- For Döngüsü\n",
    "\n",
    "şimdi nasıl çalışıyor mantığını öğrenelim"
   ]
  },
  {
   "cell_type": "markdown",
   "id": "35102af0",
   "metadata": {},
   "source": [
    "### While Döngüsü\n",
    "İngilizce bir kelime olan while, Türkçede ‘… iken, … olduğu sürece’ gibi anlamlara gelir. Buradaki çalışma mantığı da \n",
    "\n",
    "istenilen durum karşılanıyor iken --> yazılan kodu çalıştır\n",
    "\n",
    "Hemen basit bir örnek yapalım:"
   ]
  },
  {
   "cell_type": "code",
   "execution_count": 25,
   "id": "80fbcf05",
   "metadata": {},
   "outputs": [
    {
     "name": "stdout",
     "output_type": "stream",
     "text": [
      "1\n",
      "2\n",
      "3\n",
      "4\n",
      "5\n",
      "6\n",
      "7\n",
      "8\n",
      "9\n"
     ]
    }
   ],
   "source": [
    "sayı = 1\n",
    "\n",
    "while sayı < 10:\n",
    "    print(sayı)\n",
    "    sayı += 1"
   ]
  },
  {
   "cell_type": "markdown",
   "id": "b9a25ca2",
   "metadata": {},
   "source": [
    "Kodu okuyalım:\n",
    "- sayı eşittir 1\n",
    "- sayı küçük iken 10'dan:\n",
    "- sayıyı yazdır\n",
    "- sayıya 1 ekle\n",
    "\n",
    "burada en önemli kısım `sayıya 1 ekle` kısmıdır, neden mi? Şöyle bir şey düşünelim; diyelim ki sayıya bir şey eklemiyoruz, yani sayı hep aynı 1. Şimdi koda bakacak olursa şöyle bir durumla karşılacağız:\n",
    "\n",
    "- sayı eşittir 1\n",
    "- sayı küçük iken 10'dan:\n",
    "- sayıyı yazdır\n",
    "\n",
    "eee? program sayıyı yazdırdıktan sonra bakacak ki sayı 1, ne yapacak? yine yazdıracak, sonra? Sayı yine 1, yine yazdıracak... Sonsuza kadar (hata verene kadar) yazdırmaya devam edecek. Demek ki `istenilen durum karşılanıyor iken` dediğimizde bu durumdan bir çeşit çıkış mekanizması da yapmamız gerekiyor."
   ]
  },
  {
   "cell_type": "code",
   "execution_count": 27,
   "id": "6754843a",
   "metadata": {},
   "outputs": [
    {
     "name": "stdout",
     "output_type": "stream",
     "text": [
      "10'dan küçük bir sayı girin: 15\n",
      "Hey! Lütfen söyleneni yapın!\n",
      "10'dan küçük bir sayı girin: 20\n",
      "Hey! Lütfen söyleneni yapın!\n",
      "10'dan küçük bir sayı girin: 10000\n",
      "Hey! Lütfen söyleneni yapın!\n",
      "10'dan küçük bir sayı girin: 3\n",
      "Teşekkürler :D\n"
     ]
    }
   ],
   "source": [
    "durum = True\n",
    "\n",
    "while durum:\n",
    "    sayı = int(input(\"10'dan küçük bir sayı girin: \"))\n",
    "    \n",
    "    if sayı < 10:\n",
    "        print(\"Teşekkürler :D\")\n",
    "        durum = False\n",
    "        \n",
    "    else:\n",
    "        print(\"Hey! Lütfen söyleneni yapın!\")"
   ]
  },
  {
   "cell_type": "markdown",
   "id": "c6a11dc7",
   "metadata": {},
   "source": [
    "Bir `durum` değişkeni oluşturduk, bu `while` döngümüzün çalışmasını sağlıyor. Eğer `durum` değişmezse, yani `True` olarak kalırsa, döngümüz çalışmaya devam edecek. Bunun için de bir koşul oluşturduk ve oluşturduğumuz koşulun sağlanması durumunda `durum` değişkenimizi `False` olarak değiştirdik. \n",
    "\n",
    "Bir de `break` diye bir kelimemiz var, bu da \"kır, kes, bırak\" anlamında bir kelimedir. Bu da `while` döngüsünden çıkmak için kullanılan bir terimdir. Hemen bir örnek:"
   ]
  },
  {
   "cell_type": "code",
   "execution_count": 4,
   "id": "90585218",
   "metadata": {},
   "outputs": [
    {
     "name": "stdout",
     "output_type": "stream",
     "text": [
      "0 Sayıyı arttırıyoruz... 1\n",
      "1 Sayıyı arttırıyoruz... 2\n",
      "2 Sayıyı arttırıyoruz... 3\n",
      "3 Sayıyı arttırıyoruz... 4\n",
      "4 Sayıyı arttırıyoruz... 5\n",
      "Sınıra ulaştık...\n"
     ]
    }
   ],
   "source": [
    "sayı = 0\n",
    "while True:\n",
    "    if sayı == 5:\n",
    "        print(\"Sınıra ulaştık...\")\n",
    "        break\n",
    "    else:\n",
    "        print(sayı, \"Sayıyı arttırıyoruz...\", end=\" \")\n",
    "        sayı += 1\n",
    "        print(sayı)"
   ]
  },
  {
   "cell_type": "markdown",
   "id": "ce178254",
   "metadata": {},
   "source": [
    "İstediğimiz durum oluşunda döngümüzü **kır**ıyoruz."
   ]
  },
  {
   "cell_type": "markdown",
   "id": "794ed242",
   "metadata": {},
   "source": [
    "### For Döngüsü\n",
    "Hemen bir örnekle nasıl çalışıtığını anlamaya çalışalım."
   ]
  },
  {
   "cell_type": "code",
   "execution_count": 1,
   "id": "e50546f7",
   "metadata": {},
   "outputs": [
    {
     "name": "stdout",
     "output_type": "stream",
     "text": [
      "a\n",
      "l\n",
      "i\n"
     ]
    }
   ],
   "source": [
    "for i in \"ali\":\n",
    "    print(i)"
   ]
  },
  {
   "cell_type": "markdown",
   "id": "433e9539",
   "metadata": {},
   "source": [
    "demek ki sentaksı şu şekildeymiş;\n",
    "\n",
    "for `blabla` in `blabla` :\n",
    "\n",
    "    yapılacak işlemler...\n",
    "    \n",
    "For kelimesi İngilizce'de \"için\" anlamına gelir, \"in\" kelimesi de \"içinde\" anlamında gelir. For döngüsü verdiğimiz değişken içindeki her eleman için döngü içinde yazdığımız komutu yapar.\n",
    "    \n",
    "bir kaç örnek daha yapalım;"
   ]
  },
  {
   "cell_type": "code",
   "execution_count": 5,
   "id": "38029dd9",
   "metadata": {},
   "outputs": [
    {
     "name": "stdout",
     "output_type": "stream",
     "text": [
      "m\n",
      "e\n",
      "r\n",
      "h\n",
      "a\n",
      "b\n",
      "a\n"
     ]
    }
   ],
   "source": [
    "isim = \"merhaba\"\n",
    "\n",
    "for harf in isim:\n",
    "    print(harf)"
   ]
  },
  {
   "cell_type": "markdown",
   "id": "6b3186af",
   "metadata": {},
   "source": [
    "demek ki `i` lere takılmıyoruz, istediğimiz kelimeyi yazabiliriz ama anlamlı olmasında fayda var"
   ]
  },
  {
   "cell_type": "code",
   "execution_count": 22,
   "id": "b6f358ec",
   "metadata": {},
   "outputs": [
    {
     "name": "stdout",
     "output_type": "stream",
     "text": [
      "İsminizi giriniz: Berkay\n",
      "İsminizin harfleri şunlardır:\n",
      "İsminizin 1 . harfi = B\n",
      "İsminizin 2 . harfi = e\n",
      "İsminizin 3 . harfi = r\n",
      "İsminizin 4 . harfi = k\n",
      "İsminizin 5 . harfi = a\n",
      "İsminizin 6 . harfi = y\n"
     ]
    }
   ],
   "source": [
    "isim = input(\"İsminizi giriniz: \")\n",
    "sayı = 1\n",
    "\n",
    "print(\"İsminizin harfleri şunlardır:\")\n",
    "\n",
    "for harf in isim:\n",
    "    print(\"İsminizin\", sayı, \". harfi =\", harf)\n",
    "    sayı += 1"
   ]
  },
  {
   "cell_type": "code",
   "execution_count": 24,
   "id": "6af5edfa",
   "metadata": {},
   "outputs": [
    {
     "name": "stdout",
     "output_type": "stream",
     "text": [
      "Parolanız: şifre123\n",
      "parolada Türkçe karakter kullanılamaz\n"
     ]
    }
   ],
   "source": [
    "tr_harfler = \"şçöğüİı\"\n",
    "\n",
    "parola = input(\"Parolanız: \")\n",
    "\n",
    "for karakter in parola:\n",
    "    if karakter in tr_harfler:\n",
    "        print(\"parolada Türkçe karakter kullanılamaz\")"
   ]
  },
  {
   "cell_type": "markdown",
   "id": "491d11db",
   "metadata": {},
   "source": [
    "Biraz da sayılarla örnekler yapalım."
   ]
  },
  {
   "cell_type": "code",
   "execution_count": 23,
   "id": "a323c883",
   "metadata": {
    "scrolled": true
   },
   "outputs": [
    {
     "name": "stdout",
     "output_type": "stream",
     "text": [
      "2\n",
      "4\n",
      "6\n",
      "8\n",
      "10\n",
      "12\n",
      "14\n",
      "16\n",
      "18\n"
     ]
    }
   ],
   "source": [
    "sayılar = \"123456789\"\n",
    "\n",
    "for sayı in sayılar:\n",
    "    print(int(sayı) * 2)"
   ]
  },
  {
   "cell_type": "markdown",
   "id": "4854268a",
   "metadata": {},
   "source": [
    "Burada sayıları bu şekilde tanımladık ama şimdi yeni bir özellik öğreneceğiz ve artık programlarımızda bunu kullanacağız. Bu fonksiyon `range()`fonksiyonu. Hemen nasıl çalıştığına bakalım;"
   ]
  },
  {
   "cell_type": "code",
   "execution_count": 8,
   "id": "f75e0289",
   "metadata": {},
   "outputs": [
    {
     "data": {
      "text/plain": [
       "range(0, 10)"
      ]
     },
     "execution_count": 8,
     "metadata": {},
     "output_type": "execute_result"
    }
   ],
   "source": [
    "range(10)"
   ]
  },
  {
   "cell_type": "markdown",
   "id": "7e0e2326",
   "metadata": {},
   "source": [
    "ee? bir şey olmadı. Olmadı gibi gözüküyor çünkü amacına uygun bir kullanım değil bu. \"range\" Türkçe'de \"aralık\" anlamına geliyor, nedir bu aralık? 0 ile 10 arasında (10 dahil değil) olan sayıların aralığı. Şimdi genelde nasıl kullandığımıza bakalım bu fonksiyonu:"
   ]
  },
  {
   "cell_type": "code",
   "execution_count": 11,
   "id": "89557149",
   "metadata": {},
   "outputs": [
    {
     "name": "stdout",
     "output_type": "stream",
     "text": [
      "0 1 2 3 4 5 6 7 8 9 "
     ]
    }
   ],
   "source": [
    "for i in range(10):\n",
    "    print(i, end=\" \")"
   ]
  },
  {
   "cell_type": "markdown",
   "id": "aaefc49a",
   "metadata": {},
   "source": [
    "yani? kodu okuyalım:\n",
    "- 0'dan 10'a kadar olan sayı aralığındaki her bir i değeri için\n",
    "- i değerini yazdır\n",
    "\n",
    "İşte `range()` fonksiyonun en basit kullanımı bu şekilde.\n",
    "\n",
    "Bir de bu fonksiyonun şöyle incelikleri, parametreleri var:\n",
    "\n",
    "`range(başlangıç_değeri, bitiş_değeri, atlama_değeri)`\n",
    "\n",
    "Burada 2 tane varsayılan değer var, bunlar başlangıç ve atlama değerleri. Nedir bu varsayılan değerler?\n",
    "\n",
    "- Başlangıç için varsayılan değer = 0\n",
    "- Atlama için varsayılan değer = 1\n",
    "\n",
    "Bunları değiştirebiliriz, hemen örnek verelim."
   ]
  },
  {
   "cell_type": "code",
   "execution_count": 14,
   "id": "567e75b7",
   "metadata": {},
   "outputs": [
    {
     "name": "stdout",
     "output_type": "stream",
     "text": [
      "0\n",
      "3\n",
      "6\n",
      "9\n"
     ]
    }
   ],
   "source": [
    "for i in range(0, 10, 3):\n",
    "    print(i)"
   ]
  },
  {
   "cell_type": "markdown",
   "id": "a8b8cb1f",
   "metadata": {},
   "source": [
    "Ne dedik burada? 0'dan başla --> 10' kadar --> 3'er 3'er atlayarak yazdır."
   ]
  },
  {
   "cell_type": "code",
   "execution_count": 15,
   "id": "98f133ef",
   "metadata": {},
   "outputs": [
    {
     "name": "stdout",
     "output_type": "stream",
     "text": [
      "10\n",
      "9\n",
      "8\n",
      "7\n",
      "6\n",
      "5\n",
      "4\n",
      "3\n",
      "2\n",
      "1\n"
     ]
    }
   ],
   "source": [
    "for i in range(10, 0, -1):\n",
    "    print(i)"
   ]
  },
  {
   "cell_type": "markdown",
   "id": "1696339e",
   "metadata": {},
   "source": [
    "Burada ne diyoruz? 10'dan başla --> 0'a kadar --> -1 giderek yazdır."
   ]
  },
  {
   "cell_type": "markdown",
   "id": "aebd729e",
   "metadata": {},
   "source": [
    "Bir de `pass` diye bir deyim var, bu da Türkçe'de \"geç\" anlamına geliyor. Programlamada da aynı anlamda kullanılıyor yani, istediğimiz durum oluştuğunda **geç / atla** demek için bu deyimi kullanılıyoruz."
   ]
  },
  {
   "cell_type": "code",
   "execution_count": 16,
   "id": "dfd22a8a",
   "metadata": {
    "scrolled": false
   },
   "outputs": [
    {
     "name": "stdout",
     "output_type": "stream",
     "text": [
      "0\n",
      "1\n",
      "2\n",
      "3\n",
      "4\n",
      "6\n",
      "7\n",
      "8\n",
      "9\n"
     ]
    }
   ],
   "source": [
    "for i in range(0, 10):\n",
    "    if i == 5:\n",
    "        pass\n",
    "    else:\n",
    "        print(i)"
   ]
  },
  {
   "cell_type": "markdown",
   "id": "3edbbae4",
   "metadata": {},
   "source": [
    "Eğer `i` değeri 5 sayısına eşit olursa **geç**, değilse yazdır."
   ]
  },
  {
   "cell_type": "markdown",
   "id": "d5ccb92a",
   "metadata": {},
   "source": [
    "Bir de `continue` deyimi var, bunun çalışma mantığı biraz garip gelebilir ama şu şekilde çalışıyor:\n",
    "- kendisinden sonra gelen her şeyin es geçilip döngünün başına dönülmesini sağlar"
   ]
  },
  {
   "cell_type": "code",
   "execution_count": 18,
   "id": "ec86ae0c",
   "metadata": {},
   "outputs": [
    {
     "name": "stdout",
     "output_type": "stream",
     "text": [
      "Çıkmak için 'iptal' yazın.\n",
      "Bir sayı girin: 1\n",
      "Bir sayı girin: 10\n",
      "Bir sayı girin: 134\n",
      "Bir sayı girin: 4821\n",
      "En fazla üç haneli bir sayı girebilirsiniz.\n",
      "Bir sayı girin: 5789\n",
      "En fazla üç haneli bir sayı girebilirsiniz.\n",
      "Bir sayı girin: iptal\n"
     ]
    }
   ],
   "source": [
    "print(\"Çıkmak için 'iptal' yazın.\")\n",
    "\n",
    "while True:\n",
    "    s = input(\"Bir sayı girin: \")\n",
    "    if s == \"iptal\":\n",
    "        break\n",
    "\n",
    "    if len(s) <= 3:\n",
    "        continue\n",
    "\n",
    "    print(\"En fazla üç haneli bir sayı girebilirsiniz.\")"
   ]
  },
  {
   "cell_type": "markdown",
   "id": "cf28dbf2",
   "metadata": {},
   "source": [
    "Eğer sayımız üç veya daha az haneli bir sayı ise `continue` deyimi bizi döngünün başına atıyor, bu sayede `print()` fonksiyonumuz çalışmıyor ama üçten büyük hanede bir sayı girdiğimizde `if` koşulu içine girmiyoruz ve `print()` fonksiyonumuz çalışıyor. "
   ]
  },
  {
   "cell_type": "markdown",
   "id": "3292610b",
   "metadata": {},
   "source": [
    "Bir de `else` deyimimiz var, bunu önceden `if` koşulunda kullanıyorduk ama döngülerde de kullanılabiliryor, nasıl mı? Diyelim ki bir isimdeki \"z\" harfi sayısını bulmak istiyorsunuz ve \"z\" harfi yoksa bunu yazmak istiyorsunuz."
   ]
  },
  {
   "cell_type": "code",
   "execution_count": 19,
   "id": "a51be195",
   "metadata": {},
   "outputs": [
    {
     "name": "stdout",
     "output_type": "stream",
     "text": [
      "Bu isimde hiç z harfi yok\n"
     ]
    }
   ],
   "source": [
    "isim = \"berkay\"\n",
    "\n",
    "for i in isim:\n",
    "    if \"z\" == i:\n",
    "        print(\"Bu isim z harfi içeriyor!\")\n",
    "        break\n",
    "else:\n",
    "    print(\"Bu isimde hiç z harfi yok\")"
   ]
  },
  {
   "cell_type": "markdown",
   "id": "a6ca7258",
   "metadata": {},
   "source": [
    "Şimdi şöyle bir uygulama yapalım, tekerleme okumak genelde çok zordur, bakalım bu tekerlemelerde bize zor gelen harften kaç tane varmış."
   ]
  },
  {
   "cell_type": "code",
   "execution_count": 23,
   "id": "00f13b01",
   "metadata": {
    "scrolled": false
   },
   "outputs": [
    {
     "name": "stdout",
     "output_type": "stream",
     "text": [
      "Sorgulamak istediğiniz harfi girin: a\n",
      "Sorguladığınız harf tekerleme içinde 42 kere kulllanılmış.\n"
     ]
    }
   ],
   "source": [
    "tekerleme = \"\"\"dal sarkar kartal kalkar ,\n",
    "kartal kalkar dal sarkar ,\n",
    "dal kalkar kantar tartar .\n",
    "dal sarkar kartal kalkar ,\n",
    "kartal kalkar dal sarkar ,\n",
    "dal kalkar kantar tartar .\"\"\"\n",
    "\n",
    "sorgu = input(\"Sorgulamak istediğiniz harfi girin: \")\n",
    "sayac = 0\n",
    "\n",
    "for i in tekerleme:\n",
    "    if i == sorgu:\n",
    "        sayac += 1\n",
    "    \n",
    "print(\"Sorguladığınız harf tekerleme içinde\", sayac, \"kere kulllanılmış.\")"
   ]
  },
  {
   "cell_type": "markdown",
   "id": "be0c1ced",
   "metadata": {},
   "source": [
    "Güzel bir örnek ama bir de kelime kelime sorgulamak isteyebiliriz. Onun için daha sonra öğreneceğimiz komutlar yardımıyla şöyle bir kod yazabiliriz:"
   ]
  },
  {
   "cell_type": "code",
   "execution_count": 26,
   "id": "c03b66a5",
   "metadata": {
    "scrolled": false
   },
   "outputs": [
    {
     "name": "stdout",
     "output_type": "stream",
     "text": [
      "Sorgulamak istediğiniz kelime girin: kalkar\n",
      "Sorguladığınız kelime tekerleme içinde 6 kere kulllanılmış.\n"
     ]
    }
   ],
   "source": [
    "sorgu = input(\"Sorgulamak istediğiniz kelime girin: \")\n",
    "sayac = 0\n",
    "\n",
    "for i in tekerleme.split(\" \"): # burada .split() ile metnimizi kelimelerine ayırdık\n",
    "    if i == sorgu:\n",
    "        sayac += 1\n",
    "\n",
    "print(\"Sorguladığınız kelime tekerleme içinde\", sayac, \"kere kulllanılmış.\")"
   ]
  }
 ],
 "metadata": {
  "kernelspec": {
   "display_name": "Python 3 (ipykernel)",
   "language": "python",
   "name": "python3"
  },
  "language_info": {
   "codemirror_mode": {
    "name": "ipython",
    "version": 3
   },
   "file_extension": ".py",
   "mimetype": "text/x-python",
   "name": "python",
   "nbconvert_exporter": "python",
   "pygments_lexer": "ipython3",
   "version": "3.9.7"
  }
 },
 "nbformat": 4,
 "nbformat_minor": 5
}
