{
 "cells": [
  {
   "cell_type": "markdown",
   "metadata": {},
   "source": [
    "# Değişkenler"
   ]
  },
  {
   "cell_type": "markdown",
   "metadata": {},
   "source": [
    "Şimdi şöyle bir durum düşünelim, bir sisteme kayıt için kullanıcı adı ve parola belirlenmesini isteyen bir program yazmak istiyoruz. Yazacağımız bu programda kullanıcı adı ve parolanın toplam uzunluğu 40 karakteri geçmeyecek."
   ]
  },
  {
   "cell_type": "markdown",
   "metadata": {},
   "source": [
    "Kullanıcı adı \"xKralTR\"\n",
    "parolası \"Eminem_Ceza_ft.Sago123\"\n",
    "olan birini düşünelim"
   ]
  },
  {
   "cell_type": "markdown",
   "metadata": {},
   "source": [
    "Bunun için önce kullanıcı adı ve parolanın uzunluğunu kontrol etmemiz gerekli. Bunu nasıl mı yapacağız? Verilerin tiplerini kontrol etmemize yarayan *type()* adında bir özellik vardı, şimdi ise verilerin uzunluğunu ölçen bir özellik öğreneceğiz, o da *len()* özelliği. Bakalım nasıl kullanılıyormuş."
   ]
  },
  {
   "cell_type": "code",
   "execution_count": 1,
   "metadata": {},
   "outputs": [
    {
     "data": {
      "text/plain": [
       "7"
      ]
     },
     "execution_count": 1,
     "metadata": {},
     "output_type": "execute_result"
    }
   ],
   "source": [
    "len(\"xKralTR\")"
   ]
  },
  {
   "cell_type": "code",
   "execution_count": 2,
   "metadata": {},
   "outputs": [
    {
     "data": {
      "text/plain": [
       "22"
      ]
     },
     "execution_count": 2,
     "metadata": {},
     "output_type": "execute_result"
    }
   ],
   "source": [
    "len(\"Eminem_Ceza_ft.Sago123\")"
   ]
  },
  {
   "cell_type": "markdown",
   "metadata": {},
   "source": [
    "Bu değerlerin uzunluklarını öğrenmeyi bulduk, istediğimiz şey toplamın 40 sayısını geçmemesi."
   ]
  },
  {
   "cell_type": "code",
   "execution_count": 3,
   "metadata": {},
   "outputs": [
    {
     "data": {
      "text/plain": [
       "29"
      ]
     },
     "execution_count": 3,
     "metadata": {},
     "output_type": "execute_result"
    }
   ],
   "source": [
    "len(\"xKralTR\") + len(\"Eminem_Ceza_ft.Sago123\")"
   ]
  },
  {
   "cell_type": "markdown",
   "metadata": {},
   "source": [
    "Bu kullanıcı adı ve şifre kabul edilebilir."
   ]
  },
  {
   "cell_type": "markdown",
   "metadata": {},
   "source": [
    "Burada bir şey dikkatinizi çekmeli. İki tane *len()* fonksiyonunu topladık. Bu nasıl mı oldu? Aslında *len()* fonksiyonu bir tam sayı değeri gönderiyor, biz de bu tam sayı değerlerini topluyoruz. Kontrol etmek amacıyla *len()* fonksiyonunu *type()* fonksiyonu içine yazarak ne değer döndürdüğünü kontrol edebiliriz."
   ]
  },
  {
   "cell_type": "code",
   "execution_count": 4,
   "metadata": {},
   "outputs": [
    {
     "data": {
      "text/plain": [
       "int"
      ]
     },
     "execution_count": 4,
     "metadata": {},
     "output_type": "execute_result"
    }
   ],
   "source": [
    "type(len(\"xKralTR\"))"
   ]
  },
  {
   "cell_type": "markdown",
   "metadata": {},
   "source": [
    "Görüldüğü gibi *len()* fonksiyonu bir integer yani tam sayı değeri döndürüyor ve biz de bu sayade matematiksel işlemler yapabiliyoruz."
   ]
  },
  {
   "cell_type": "markdown",
   "metadata": {},
   "source": [
    "Yukarıda yazdığımız ```len(\"xKralTR\") + len(\"Eminem_Ceza_ft.Sago123\")``` kod parçası doğru bir şekilde çalışıyor ancak bu görüntü pek hoş değil. Ayrıca dikkat ederseniz, yukarıdaki örneklerde kullandığımız verileri, program içinde her ihtiyaç\n",
    "duyduğumuzda tekrar tekrar yazdık. Yani bu verileri çok fazla kullandığımız bir program yazdığımız bir senaryoda veriyi değiştirmek istersek program içindeki bütün verileri tek tek değiştirmemiz gerekecek."
   ]
  },
  {
   "cell_type": "markdown",
   "metadata": {},
   "source": [
    "Bunun yerine bu verileri bir değişkene atama işlemi yapsak ve programımızda tanımladığımız değişkeni kullansak sadece bir değişiklik ile bütün programın işleyişini değiştirebiliriz. Nasıl mı? İşte böyle:"
   ]
  },
  {
   "cell_type": "code",
   "execution_count": 5,
   "metadata": {},
   "outputs": [
    {
     "data": {
      "text/plain": [
       "29"
      ]
     },
     "execution_count": 5,
     "metadata": {},
     "output_type": "execute_result"
    }
   ],
   "source": [
    "# değişken kullanmadan;\n",
    "len(\"xKralTR\") + len(\"Eminem_Ceza_ft.Sago123\")"
   ]
  },
  {
   "cell_type": "code",
   "execution_count": 6,
   "metadata": {},
   "outputs": [
    {
     "data": {
      "text/plain": [
       "29"
      ]
     },
     "execution_count": 6,
     "metadata": {},
     "output_type": "execute_result"
    }
   ],
   "source": [
    "# değişken kullanrak\n",
    "kullanıcı_adı = \"xKralTR\"\n",
    "parola = \"Eminem_Ceza_ft.Sago123\"\n",
    "\n",
    "len(kullanıcı_adı) + len(parola)"
   ]
  },
  {
   "cell_type": "markdown",
   "metadata": {},
   "source": [
    "Gördüğünüz gibi kullanıcı adını ve parolayı bir değişkene atadık ve *len()* fonksiyonu içinde değişkenlerimizi kullandık. Farklı örnekler verelim:"
   ]
  },
  {
   "cell_type": "code",
   "execution_count": 7,
   "metadata": {},
   "outputs": [],
   "source": [
    "n = 5"
   ]
  },
  {
   "cell_type": "code",
   "execution_count": 8,
   "metadata": {},
   "outputs": [
    {
     "data": {
      "text/plain": [
       "5"
      ]
     },
     "execution_count": 8,
     "metadata": {},
     "output_type": "execute_result"
    }
   ],
   "source": [
    "n"
   ]
  },
  {
   "cell_type": "code",
   "execution_count": 9,
   "metadata": {},
   "outputs": [
    {
     "data": {
      "text/plain": [
       "50"
      ]
     },
     "execution_count": 9,
     "metadata": {},
     "output_type": "execute_result"
    }
   ],
   "source": [
    "n * 10"
   ]
  },
  {
   "cell_type": "code",
   "execution_count": 10,
   "metadata": {},
   "outputs": [
    {
     "data": {
      "text/plain": [
       "2.5"
      ]
     },
     "execution_count": 10,
     "metadata": {},
     "output_type": "execute_result"
    }
   ],
   "source": [
    "n / 2"
   ]
  },
  {
   "cell_type": "markdown",
   "metadata": {},
   "source": [
    "Görüldüğü gibi 5 sayısına ihtiyacımız olduğunda n değişkenini kullanabiliyoruz. Daha anlamlı örnekler verelim:"
   ]
  },
  {
   "cell_type": "code",
   "execution_count": 11,
   "metadata": {},
   "outputs": [],
   "source": [
    "pi = 3.14"
   ]
  },
  {
   "cell_type": "code",
   "execution_count": 12,
   "metadata": {},
   "outputs": [
    {
     "data": {
      "text/plain": [
       "8.14"
      ]
     },
     "execution_count": 12,
     "metadata": {},
     "output_type": "execute_result"
    }
   ],
   "source": [
    "pi + n"
   ]
  },
  {
   "cell_type": "markdown",
   "metadata": {},
   "source": [
    "## Değişken Adı Belirleme Kuralları"
   ]
  },
  {
   "cell_type": "markdown",
   "metadata": {},
   "source": [
    "Python'da neredeyse her kelimeyi değişken ismi olarak belirleyebilirsiniz. Ama yine de değişken adı belirlerken dikkat etmemiz kurallar vardır. Bu kuralların bazıları zorunluluk bazıları ise tavsiye niteliğindedir."
   ]
  },
  {
   "cell_type": "markdown",
   "metadata": {},
   "source": [
    "1-) Değişken adları sayı ile başlayamaz"
   ]
  },
  {
   "cell_type": "code",
   "execution_count": 1,
   "metadata": {},
   "outputs": [
    {
     "ename": "SyntaxError",
     "evalue": "invalid decimal literal (<ipython-input-1-050fd5b6ef41>, line 1)",
     "output_type": "error",
     "traceback": [
      "\u001b[1;36m  File \u001b[1;32m\"<ipython-input-1-050fd5b6ef41>\"\u001b[1;36m, line \u001b[1;32m1\u001b[0m\n\u001b[1;33m    1000_kilo = \"1 ton\"\u001b[0m\n\u001b[1;37m        ^\u001b[0m\n\u001b[1;31mSyntaxError\u001b[0m\u001b[1;31m:\u001b[0m invalid decimal literal\n"
     ]
    }
   ],
   "source": [
    "1000_kilo = \"1 ton\" \n",
    "# hata verir"
   ]
  },
  {
   "cell_type": "markdown",
   "metadata": {},
   "source": [
    "2-) Değişken adları aritmetik operatörlerle başlayamazlar"
   ]
  },
  {
   "cell_type": "code",
   "execution_count": 2,
   "metadata": {},
   "outputs": [
    {
     "ename": "SyntaxError",
     "evalue": "cannot assign to operator (<ipython-input-2-b3d239fd0ccd>, line 1)",
     "output_type": "error",
     "traceback": [
      "\u001b[1;36m  File \u001b[1;32m\"<ipython-input-2-b3d239fd0ccd>\"\u001b[1;36m, line \u001b[1;32m1\u001b[0m\n\u001b[1;33m    +sayılar = \"pozitif\"\u001b[0m\n\u001b[1;37m    ^\u001b[0m\n\u001b[1;31mSyntaxError\u001b[0m\u001b[1;31m:\u001b[0m cannot assign to operator\n"
     ]
    }
   ],
   "source": [
    "+sayılar = \"pozitif\"\n",
    "# hata verir"
   ]
  },
  {
   "cell_type": "markdown",
   "metadata": {},
   "source": [
    "3-) Değişken adları harf ya da alt tire (_) işareti ile başlayabilir"
   ]
  },
  {
   "cell_type": "code",
   "execution_count": 4,
   "metadata": {},
   "outputs": [],
   "source": [
    "selam = \"Merhaba!\""
   ]
  },
  {
   "cell_type": "code",
   "execution_count": 6,
   "metadata": {},
   "outputs": [
    {
     "data": {
      "text/plain": [
       "'Merhaba!'"
      ]
     },
     "execution_count": 6,
     "metadata": {},
     "output_type": "execute_result"
    }
   ],
   "source": [
    "selam"
   ]
  },
  {
   "cell_type": "code",
   "execution_count": 7,
   "metadata": {},
   "outputs": [],
   "source": [
    "_meyve = \"Elma\""
   ]
  },
  {
   "cell_type": "code",
   "execution_count": 8,
   "metadata": {},
   "outputs": [
    {
     "data": {
      "text/plain": [
       "'Elma'"
      ]
     },
     "execution_count": 8,
     "metadata": {},
     "output_type": "execute_result"
    }
   ],
   "source": [
    "_meyve"
   ]
  },
  {
   "cell_type": "markdown",
   "metadata": {},
   "source": [
    "4-) Değişken ismi tanımlarken Türkçe karakter kullanabilirsiniz ama ileride uyum sorunları çıkabilir, o yüzden olabildiğince kaçınmak gerekir."
   ]
  },
  {
   "cell_type": "code",
   "execution_count": 9,
   "metadata": {},
   "outputs": [],
   "source": [
    "özlem = \"hasret\""
   ]
  },
  {
   "cell_type": "markdown",
   "metadata": {},
   "source": [
    "yerine,"
   ]
  },
  {
   "cell_type": "code",
   "execution_count": 11,
   "metadata": {},
   "outputs": [],
   "source": [
    "ozlem = \"hasret\""
   ]
  },
  {
   "cell_type": "markdown",
   "metadata": {},
   "source": [
    "5-) Değişken ismi tanımlarken boşluk ( ) kullanamazsınız"
   ]
  },
  {
   "cell_type": "code",
   "execution_count": 13,
   "metadata": {},
   "outputs": [
    {
     "ename": "SyntaxError",
     "evalue": "invalid syntax (<ipython-input-13-e45681c49f69>, line 1)",
     "output_type": "error",
     "traceback": [
      "\u001b[1;36m  File \u001b[1;32m\"<ipython-input-13-e45681c49f69>\"\u001b[1;36m, line \u001b[1;32m1\u001b[0m\n\u001b[1;33m    değişken ismi = \"olmadı şimdi\"\u001b[0m\n\u001b[1;37m             ^\u001b[0m\n\u001b[1;31mSyntaxError\u001b[0m\u001b[1;31m:\u001b[0m invalid syntax\n"
     ]
    }
   ],
   "source": [
    "değişken ismi = \"olmadı şimdi\"\n",
    "# hata verir"
   ]
  },
  {
   "cell_type": "markdown",
   "metadata": {},
   "source": [
    "6-) Ve geldik **kullanamayacağınız** kelimelere. Bu kelimeleri öğrenmek için şu kodu yazıyoruz;"
   ]
  },
  {
   "cell_type": "code",
   "execution_count": 12,
   "metadata": {
    "collapsed": true
   },
   "outputs": [
    {
     "data": {
      "text/plain": [
       "['False',\n",
       " 'None',\n",
       " 'True',\n",
       " 'and',\n",
       " 'as',\n",
       " 'assert',\n",
       " 'async',\n",
       " 'await',\n",
       " 'break',\n",
       " 'class',\n",
       " 'continue',\n",
       " 'def',\n",
       " 'del',\n",
       " 'elif',\n",
       " 'else',\n",
       " 'except',\n",
       " 'finally',\n",
       " 'for',\n",
       " 'from',\n",
       " 'global',\n",
       " 'if',\n",
       " 'import',\n",
       " 'in',\n",
       " 'is',\n",
       " 'lambda',\n",
       " 'nonlocal',\n",
       " 'not',\n",
       " 'or',\n",
       " 'pass',\n",
       " 'raise',\n",
       " 'return',\n",
       " 'try',\n",
       " 'while',\n",
       " 'with',\n",
       " 'yield']"
      ]
     },
     "execution_count": 12,
     "metadata": {},
     "output_type": "execute_result"
    }
   ],
   "source": [
    "import keyword\n",
    "keyword.kwlist"
   ]
  },
  {
   "cell_type": "markdown",
   "metadata": {},
   "source": [
    "Burada gördüğünüz kelimeler Python'da olan bazı özellikleri olan kelimeler. Bu kelimeleri programlarımızı yazarken kullanıyoruz. Bu sebeple bunları değişken ismi olarak kullanamıyoruz. Bu kelimeleri ezberlemek zorunda değilsiniz. Zaten dili kullandıkça değişken ismi olarak neyi kullanıp neyi kullanamayacağınızı da fark ediyorsunuz. Örneğin \"len\" veya \"type\" kelimelerini değişken ismi olarak kullanmak istemezsiniz."
   ]
  },
  {
   "cell_type": "markdown",
   "metadata": {},
   "source": [
    "7-) Değişken ismi tanımlarken, değişkenin adının, değişkenin değerini olabildiğince kısa ve öz bir betimlemesini yapmasına dikkat etmeliyiz. Örneğin:"
   ]
  },
  {
   "cell_type": "code",
   "execution_count": 14,
   "metadata": {},
   "outputs": [],
   "source": [
    "kullanıcı_adı = \"Binnazz\""
   ]
  },
  {
   "cell_type": "code",
   "execution_count": 15,
   "metadata": {},
   "outputs": [],
   "source": [
    "k_adı = \"Binnazz\""
   ]
  },
  {
   "cell_type": "markdown",
   "metadata": {},
   "source": [
    "Bu iki değişken ismi kabul edilebilir değişken isimleri. Değişkenin ismine baktığımızda neyi temsil ettiğini kolayca anlayabiliyoruz, istediğimiz de bu. Ancak bir de şu örneğe bakın:"
   ]
  },
  {
   "cell_type": "code",
   "execution_count": 16,
   "metadata": {},
   "outputs": [],
   "source": [
    "a = \"Binnazz\""
   ]
  },
  {
   "cell_type": "markdown",
   "metadata": {},
   "source": [
    "100 satırlık bir kod yazdığınızı ve bir sürü değişken tanımladığınızı düşünün. Bu şekilde bir değişken ismi vermek kullanıcı adını hangi değişkende tuttuğunuzu hatırlamanızı gerçekten zorlaştıracaktır."
   ]
  },
  {
   "cell_type": "markdown",
   "metadata": {},
   "source": [
    "Değişken isimlerinin ne çok kısa, ne de çok uzun olması istediğimiz bir şey değildir. Örneğin Türkiye Büyük Millet Meclisi'ndeki milletvekili sayısını bir değişkende tutmak istiyorsunuz. Şunu yapmak pek mantıklı değildir:"
   ]
  },
  {
   "cell_type": "code",
   "execution_count": 17,
   "metadata": {},
   "outputs": [],
   "source": [
    "türkiye_büyük_millet_meclisi_milletvekili_sayısı = 600"
   ]
  },
  {
   "cell_type": "markdown",
   "metadata": {},
   "source": [
    "bunun yerine,"
   ]
  },
  {
   "cell_type": "code",
   "execution_count": 18,
   "metadata": {},
   "outputs": [],
   "source": [
    "tbmm_mv_sayısı = 600"
   ]
  },
  {
   "cell_type": "markdown",
   "metadata": {},
   "source": [
    "gibi bir değişken ismi çok çok daha iyi bir seçenek."
   ]
  },
  {
   "cell_type": "markdown",
   "metadata": {},
   "source": [
    "Bir kaç örnek ile pekiştirme yapalım."
   ]
  },
  {
   "cell_type": "markdown",
   "metadata": {},
   "source": [
    "Diyelim ki aylık yol masrafımızı hesaplayan bir program yazmak istiyoruz. Elimizdeki veriler de şunlar:\n",
    "\n",
    "1-) Cumartesi-Pazar günleri çalışmıyoruz.\n",
    "\n",
    "2-) Dolayısıyla ayda 22 gün çalışıyoruz.\n",
    "\n",
    "3-) Evden işe gitmek için kullandığımız vasıtanın ücreti 5.48 TL\n",
    "\n",
    "4-) İşten eve dönmek için kullandığımız vasıtanın ücreti 3.60 TL"
   ]
  },
  {
   "cell_type": "markdown",
   "metadata": {},
   "source": [
    "Aylık yol masrafımızı hesaplayabilmek için gidiş ve dönüş ücretlerini toplayıp, bunları çalıştığımız gün sayısıyla çarpmamız yeterli olacaktır."
   ]
  },
  {
   "cell_type": "code",
   "execution_count": 22,
   "metadata": {},
   "outputs": [
    {
     "data": {
      "text/plain": [
       "199.76"
      ]
     },
     "execution_count": 22,
     "metadata": {},
     "output_type": "execute_result"
    }
   ],
   "source": [
    "# masraf = gün_sayısı x (gidiş_ücreti + dönüş_ücreti)\n",
    "\n",
    "gün_sayısı = 22\n",
    "gidiş_ücreti = 5.48\n",
    "dönüş_ücreti = 3.60\n",
    "\n",
    "masraf = gün_sayısı * (gidiş_ücreti + dönüş_ücreti)\n",
    "\n",
    "masraf"
   ]
  },
  {
   "cell_type": "markdown",
   "metadata": {},
   "source": [
    "Aylık yol masrafımızı bu şekilde hesaplayabiliriz. Bu şekilde bir programın güzel yanı eğer gidiş ya da dönüş ücreti değişirse programın çalışma yapısına dokunmadan sadece değerleri değiştirebilmemiz."
   ]
  },
  {
   "cell_type": "markdown",
   "metadata": {},
   "source": [
    "Bir örnek daha yapalım, mesela bir dairenin alanını (yaklaşık olarak) hesaplayan bir program yazalım."
   ]
  },
  {
   "cell_type": "code",
   "execution_count": 23,
   "metadata": {},
   "outputs": [
    {
     "data": {
      "text/plain": [
       "78.5"
      ]
     },
     "execution_count": 23,
     "metadata": {},
     "output_type": "execute_result"
    }
   ],
   "source": [
    "# dairenin_alanı = π x r², r = yarıçap\n",
    "\n",
    "pi = 3.14\n",
    "\n",
    "r = 5\n",
    "\n",
    "daire_alanı = pi * r * r\n",
    "\n",
    "daire_alanı"
   ]
  },
  {
   "cell_type": "markdown",
   "metadata": {},
   "source": [
    "r² ifadesini nasıl tanımladığımıza bakalım, ```r * r```\n",
    "\n",
    "eğer bir sayının 5 ya da 10. kuvvetini almak istesek ard arda ```n * n * n * n...``` şekilde yazacak mıyız? \n",
    "\n",
    "Tabi ki hayır. Python'da üs alma işlemi için şöyle bir özellik var:"
   ]
  },
  {
   "cell_type": "code",
   "execution_count": 24,
   "metadata": {},
   "outputs": [
    {
     "data": {
      "text/plain": [
       "78.5"
      ]
     },
     "execution_count": 24,
     "metadata": {},
     "output_type": "execute_result"
    }
   ],
   "source": [
    "daire_alanı = pi * (r ** 2)\n",
    "\n",
    "daire_alanı"
   ]
  },
  {
   "cell_type": "markdown",
   "metadata": {},
   "source": [
    "Gördüğünüz gibi `sayı ** üssü` şekilde yazabiliyoruz."
   ]
  },
  {
   "cell_type": "code",
   "execution_count": 25,
   "metadata": {},
   "outputs": [
    {
     "data": {
      "text/plain": [
       "256"
      ]
     },
     "execution_count": 25,
     "metadata": {},
     "output_type": "execute_result"
    }
   ],
   "source": [
    "sayı = 2\n",
    "sayı ** 8"
   ]
  },
  {
   "cell_type": "markdown",
   "metadata": {},
   "source": [
    "Bu özellik karekök hesaplamak için de kullanılabilir. Nasıl mı? Bir sayının 1/2 kuvveti, o sayının kareköküdür."
   ]
  },
  {
   "cell_type": "code",
   "execution_count": 26,
   "metadata": {},
   "outputs": [
    {
     "data": {
      "text/plain": [
       "3.0"
      ]
     },
     "execution_count": 26,
     "metadata": {},
     "output_type": "execute_result"
    }
   ],
   "source": [
    "9 ** 0.5"
   ]
  },
  {
   "cell_type": "markdown",
   "metadata": {},
   "source": [
    "Bu özelliği öğrendik ama Python'da bunun için bir fonksiyon da var. Bu fonksiyonun ismi `pow()`. Nasıl kullanılıyor birlikte bakalım."
   ]
  },
  {
   "cell_type": "code",
   "execution_count": 28,
   "metadata": {},
   "outputs": [
    {
     "data": {
      "text/plain": [
       "256"
      ]
     },
     "execution_count": 28,
     "metadata": {},
     "output_type": "execute_result"
    }
   ],
   "source": [
    "pow(2, 8)"
   ]
  },
  {
   "cell_type": "code",
   "execution_count": 29,
   "metadata": {},
   "outputs": [
    {
     "data": {
      "text/plain": [
       "12.0"
      ]
     },
     "execution_count": 29,
     "metadata": {},
     "output_type": "execute_result"
    }
   ],
   "source": [
    "pow(144, 0.5)"
   ]
  },
  {
   "cell_type": "markdown",
   "metadata": {},
   "source": [
    "Yani yazım kuralı şu; `pow(sayı, üssü)`"
   ]
  },
  {
   "cell_type": "markdown",
   "metadata": {},
   "source": [
    "Bir de şöyle bir özelliği var;"
   ]
  },
  {
   "cell_type": "code",
   "execution_count": 30,
   "metadata": {},
   "outputs": [
    {
     "data": {
      "text/plain": [
       "1"
      ]
     },
     "execution_count": 30,
     "metadata": {},
     "output_type": "execute_result"
    }
   ],
   "source": [
    "pow(2, 8, 3)"
   ]
  },
  {
   "cell_type": "markdown",
   "metadata": {},
   "source": [
    "Burada son parametrenin görevi şu;\n",
    "\n",
    "üssünü aldığınız sayıyı, son parametredeki sayıya bölüp kalanı veriyor."
   ]
  },
  {
   "cell_type": "code",
   "execution_count": 32,
   "metadata": {},
   "outputs": [
    {
     "data": {
      "text/plain": [
       "1"
      ]
     },
     "execution_count": 32,
     "metadata": {},
     "output_type": "execute_result"
    }
   ],
   "source": [
    "pow(2, 8) # --> 256\n",
    "\n",
    "(256 % 3) # --> 256 mod 3, yani 256'nın 3'e bölümünden kalan sayı"
   ]
  },
  {
   "cell_type": "markdown",
   "metadata": {},
   "source": [
    "### Değişkenlere Dair Bazı İpuçları\n",
    "#### Aynı Değerlere Sahip Değişkenler Tanımlamak"
   ]
  },
  {
   "cell_type": "markdown",
   "metadata": {},
   "source": [
    "Örneğin değeri aynı olan iki farklı değişken tanımlamak istiyoruz, bunu nasıl yaparız?"
   ]
  },
  {
   "cell_type": "code",
   "execution_count": 33,
   "metadata": {},
   "outputs": [],
   "source": [
    "a = \"selam\"\n",
    "b = \"selam\""
   ]
  },
  {
   "cell_type": "markdown",
   "metadata": {},
   "source": [
    "Bu aklınıza gelen ilk çözüm olmuş olabilir, doğru bir şekilde de çalışır ancak Python'da bunu yapmanının daha kolay bir yolu vardır."
   ]
  },
  {
   "cell_type": "code",
   "execution_count": 34,
   "metadata": {},
   "outputs": [],
   "source": [
    "a = b = \"selam\""
   ]
  },
  {
   "cell_type": "code",
   "execution_count": 35,
   "metadata": {},
   "outputs": [
    {
     "data": {
      "text/plain": [
       "'selam'"
      ]
     },
     "execution_count": 35,
     "metadata": {},
     "output_type": "execute_result"
    }
   ],
   "source": [
    "a"
   ]
  },
  {
   "cell_type": "code",
   "execution_count": 36,
   "metadata": {},
   "outputs": [
    {
     "data": {
      "text/plain": [
       "'selam'"
      ]
     },
     "execution_count": 36,
     "metadata": {},
     "output_type": "execute_result"
    }
   ],
   "source": [
    "b"
   ]
  },
  {
   "cell_type": "markdown",
   "metadata": {},
   "source": [
    "Peki bunu ne için kullanabiliriz? Mesela ayların gün sayısını yazmak istediğinizi düşünün."
   ]
  },
  {
   "cell_type": "code",
   "execution_count": 37,
   "metadata": {},
   "outputs": [],
   "source": [
    "ocak = 31\n",
    "şubat = 28\n",
    "mart = 31\n",
    "nisan = 30\n",
    "mayıs = 31\n",
    "haziran = 30\n",
    "temmuz = 31\n",
    "ağustos = 31\n",
    "eylül = 30\n",
    "ekim = 31\n",
    "kasım = 30\n",
    "aralık = 31"
   ]
  },
  {
   "cell_type": "markdown",
   "metadata": {},
   "source": [
    "Bu şekilde tanımlamak çok zahmetli olacaktır. Bunun yerine yeni öğrendiğimiz bilgiyi kullanabiliriz."
   ]
  },
  {
   "cell_type": "code",
   "execution_count": 39,
   "metadata": {},
   "outputs": [],
   "source": [
    "ocak = mart = mayıs = temmuz = ağustos = ekim = aralık = 31\n",
    "nisan = haziran = eylül = kasım = 30\n",
    "şubat = 28"
   ]
  },
  {
   "cell_type": "markdown",
   "metadata": {},
   "source": [
    "Gördüğünüz gibi çok daha kolay. 31 ve 30 sayısını sadece bir defa yazdık.\n",
    "\n",
    "Bu değişkenleri kullanarak kafanıza ne geliyorsa onu yapabilirsiniz. Örneğin yol masrafını yıllık olarak hesaplayabiliriz (şu anki fiyattan)."
   ]
  },
  {
   "cell_type": "code",
   "execution_count": 44,
   "metadata": {},
   "outputs": [
    {
     "data": {
      "text/plain": [
       "2442.52"
      ]
     },
     "execution_count": 44,
     "metadata": {},
     "output_type": "execute_result"
    }
   ],
   "source": [
    "                  # - 8 --> hafta sonlarını çıkarıyoruz\n",
    "masraf_31 = (ocak - 8) * (gidiş_ücreti + dönüş_ücreti)\n",
    "masraf_30 = (nisan - 8) * (gidiş_ücreti + dönüş_ücreti)\n",
    "masraf_28 = (şubat - 8) * (gidiş_ücreti + dönüş_ücreti)\n",
    "\n",
    "# 31 çeken aylar + 30 çeken aylar + 28 çeken aylar = 1 yıl\n",
    "\n",
    "masraf_yıl = (masraf_31 * 7) + (masraf_30 * 4) + masraf_28\n",
    "\n",
    "masraf_yıl"
   ]
  },
  {
   "cell_type": "markdown",
   "metadata": {},
   "source": [
    "Gibi bir program bize yıllık ortalama yol masrafımızı (tatiller, özel durumlar vs. hariç) gösterir. Yalnız yukarıdaki kodda kendini 3 kere tekrar eden `(gidiş_ücreti + dönüş_ücreti)` kısmı var, bu değeri de `masraf_günlük` gibi bir değişkene atayarak programımızı daha okunaklı yapabiliriz."
   ]
  },
  {
   "cell_type": "markdown",
   "metadata": {},
   "source": [
    "#### Değişkenlerin Değerleini Takas Etme"
   ]
  },
  {
   "cell_type": "markdown",
   "metadata": {},
   "source": [
    "Örneğin sınıfınızdaki öğrencilerden biri sınıf sorumlusu, diğeri normal öğrenci. Sınıf sorumlusu arkadaş görevini değiştirmek istediğinde bunu şu şekilde rahatça yapabiliriz:"
   ]
  },
  {
   "cell_type": "code",
   "execution_count": 45,
   "metadata": {},
   "outputs": [],
   "source": [
    "ali = \"Sorumlu\"\n",
    "ayşe = \"Öğrenci\""
   ]
  },
  {
   "cell_type": "code",
   "execution_count": 46,
   "metadata": {},
   "outputs": [],
   "source": [
    "ali, ayşe = ayşe, ali"
   ]
  },
  {
   "cell_type": "code",
   "execution_count": 47,
   "metadata": {},
   "outputs": [
    {
     "data": {
      "text/plain": [
       "'Öğrenci'"
      ]
     },
     "execution_count": 47,
     "metadata": {},
     "output_type": "execute_result"
    }
   ],
   "source": [
    "ali"
   ]
  },
  {
   "cell_type": "code",
   "execution_count": 48,
   "metadata": {},
   "outputs": [
    {
     "data": {
      "text/plain": [
       "'Sorumlu'"
      ]
     },
     "execution_count": 48,
     "metadata": {},
     "output_type": "execute_result"
    }
   ],
   "source": [
    "ayşe"
   ]
  },
  {
   "cell_type": "markdown",
   "metadata": {},
   "source": [
    "Gördüğün gibi, ali'nin değerini ayşe'ye, ayşe'nin değerini ali'ye atadık. "
   ]
  },
  {
   "cell_type": "markdown",
   "metadata": {},
   "source": [
    "Bu bölümde `len()` ve `pow()` fonksiyonlarını öğrendik. Yalnız `len()` fonksiyonu hakkında biraz daha konuşabiliriz.\n",
    "\n",
    "Mesela `len()` ile karakter dizilerinin (stringlerin) uzunluğunu ölçebiliyoruz ama sayıların uzunluklarını ölçemiyoruz."
   ]
  },
  {
   "cell_type": "code",
   "execution_count": 49,
   "metadata": {},
   "outputs": [
    {
     "data": {
      "text/plain": [
       "43"
      ]
     },
     "execution_count": 49,
     "metadata": {},
     "output_type": "execute_result"
    }
   ],
   "source": [
    "len(\"Afyonkarahisarlılaştıramadıklarımızdansınız\")"
   ]
  },
  {
   "cell_type": "code",
   "execution_count": 50,
   "metadata": {
    "collapsed": true
   },
   "outputs": [
    {
     "ename": "TypeError",
     "evalue": "object of type 'int' has no len()",
     "output_type": "error",
     "traceback": [
      "\u001b[1;31m---------------------------------------------------------------------------\u001b[0m",
      "\u001b[1;31mTypeError\u001b[0m                                 Traceback (most recent call last)",
      "\u001b[1;32m<ipython-input-50-5ed8bb015fa2>\u001b[0m in \u001b[0;36m<module>\u001b[1;34m\u001b[0m\n\u001b[1;32m----> 1\u001b[1;33m \u001b[0mlen\u001b[0m\u001b[1;33m(\u001b[0m\u001b[1;36m112263\u001b[0m\u001b[1;33m)\u001b[0m\u001b[1;33m\u001b[0m\u001b[1;33m\u001b[0m\u001b[0m\n\u001b[0m",
      "\u001b[1;31mTypeError\u001b[0m: object of type 'int' has no len()"
     ]
    }
   ],
   "source": [
    "len(112263)\n",
    "# hata verir"
   ]
  },
  {
   "cell_type": "markdown",
   "metadata": {},
   "source": [
    "İşte burada anlıyoruz ki verilerin tipleri çok temel ve çok önemli bir konudur çünkü fonksiyona gidecek verinin tipi sonucu direkt olarak etkiler"
   ]
  }
 ],
 "metadata": {
  "kernelspec": {
   "display_name": "Python 3",
   "language": "python",
   "name": "python3"
  },
  "language_info": {
   "codemirror_mode": {
    "name": "ipython",
    "version": 3
   },
   "file_extension": ".py",
   "mimetype": "text/x-python",
   "name": "python",
   "nbconvert_exporter": "python",
   "pygments_lexer": "ipython3",
   "version": "3.8.3"
  }
 },
 "nbformat": 4,
 "nbformat_minor": 4
}
