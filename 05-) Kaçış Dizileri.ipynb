{
 "cells": [
  {
   "cell_type": "markdown",
   "metadata": {},
   "source": [
    "# Kaçış Dizileri\n",
    "\n",
    "Python'da daha önce de gördüğümüz ters taksim (\\) işareti bir kaçış dizisidir. Peki nedir bu kaçış dizileri? (ve ismi neden \"kaçış dizisi\")"
   ]
  },
  {
   "cell_type": "markdown",
   "metadata": {},
   "source": [
    "Örneğin ekrana şöyle bir şey yazdırmak istiyoruz:\n",
    "\"İstanbul'u dinliyorum, gözlerim kapalı...\"\n",
    "(başında ve sonunda çift tırnak var ve \"İstanbul\" kelimesinden sonra tek tırnak var)"
   ]
  },
  {
   "cell_type": "code",
   "execution_count": 1,
   "metadata": {
    "collapsed": true
   },
   "outputs": [
    {
     "ename": "SyntaxError",
     "evalue": "invalid syntax (<ipython-input-1-773a9a27471e>, line 1)",
     "output_type": "error",
     "traceback": [
      "\u001b[1;36m  File \u001b[1;32m\"<ipython-input-1-773a9a27471e>\"\u001b[1;36m, line \u001b[1;32m1\u001b[0m\n\u001b[1;33m    print(\"\"İstanbul'u dinliyorum, gözlerim kapalı...\"\")\u001b[0m\n\u001b[1;37m            ^\u001b[0m\n\u001b[1;31mSyntaxError\u001b[0m\u001b[1;31m:\u001b[0m invalid syntax\n"
     ]
    }
   ],
   "source": [
    "print(\"\"İstanbul'u dinliyorum, gözlerim kapalı...\"\")"
   ]
  },
  {
   "cell_type": "markdown",
   "metadata": {},
   "source": [
    "Beklediğimiz gibi hata aldık, önceki konuda sebebini söylemiştik. Hemen düzeltelim."
   ]
  },
  {
   "cell_type": "code",
   "execution_count": 2,
   "metadata": {
    "scrolled": true
   },
   "outputs": [
    {
     "name": "stdout",
     "output_type": "stream",
     "text": [
      "\"İstanbul'u dinliyorum, gözlerim kapalı...\"\n"
     ]
    }
   ],
   "source": [
    "print(\"\\\"İstanbul'u dinliyorum, gözlerim kapalı...\\\"\")"
   ]
  },
  {
   "cell_type": "markdown",
   "metadata": {},
   "source": [
    "Burada \"kaçış\" kelimesinin üstüne düşmek istiyorum biraz. Neden \"kaçış\" diyoruz? Çünkü çift tırnağın özelliğindan kaçıyoruz. Ortada bir kaçış var.\n",
    "\n",
    "Peki diyelim ki \"İstanbul\\Düzce\" tarzı bir şey yazdırmak istiyoruz. E aklımıza hemen \"Ters taksim kaçış ifadesi değil miydi, nasıl olacak şimdi bu?\" gelebilir. Peki şöyle bir çözüm olamaz mı: kaçış dizisinin özelliğinden kaçabilir miyiz???"
   ]
  },
  {
   "cell_type": "code",
   "execution_count": 4,
   "metadata": {},
   "outputs": [
    {
     "name": "stdout",
     "output_type": "stream",
     "text": [
      "elma\\armut\n",
      "İstanbul\\Düzce\n"
     ]
    }
   ],
   "source": [
    "metin = \"elma\\\\armut\"\n",
    "print(metin)\n",
    "print(\"İstanbul\\\\Düzce\")"
   ]
  },
  {
   "cell_type": "markdown",
   "metadata": {},
   "source": [
    "Şimdi gelelim bu ters taksimin kullanıldığı farklı yerlere:"
   ]
  },
  {
   "cell_type": "markdown",
   "metadata": {},
   "source": [
    "\\n - Yeni bir satıra geçmemizi sağlar."
   ]
  },
  {
   "cell_type": "code",
   "execution_count": 6,
   "metadata": {},
   "outputs": [
    {
     "name": "stdout",
     "output_type": "stream",
     "text": [
      "1-)...\n",
      "2-)...\n",
      "3-)...\n",
      "İlk satır\n",
      "İkinci satır\n"
     ]
    }
   ],
   "source": [
    "ornek = \"1-)...\\n2-)...\\n3-)...\"\n",
    "print(ornek)\n",
    "print(\"İlk satır\\nİkinci satır\")"
   ]
  },
  {
   "cell_type": "markdown",
   "metadata": {},
   "source": [
    "\\t - Karakterler arasında sekme boşluğu bırakmamızı sağlar."
   ]
  },
  {
   "cell_type": "code",
   "execution_count": 7,
   "metadata": {},
   "outputs": [
    {
     "name": "stdout",
     "output_type": "stream",
     "text": [
      "1-)...\t2-)...\t3-)...\n",
      "bu\tkelimelerin\tarasında\tbir\tsekme\tboşluk\tvar\n"
     ]
    }
   ],
   "source": [
    "ornek = \"1-)...\\t2-)...\\t3-)...\"\n",
    "print(ornek)\n",
    "print(\"bu\\tkelimelerin\\tarasında\\tbir\\tsekme\\tboşluk\\tvar\")"
   ]
  },
  {
   "cell_type": "markdown",
   "metadata": {},
   "source": [
    "\\u - UNICODE kod konumlarını temsil etmek için kullanılır."
   ]
  },
  {
   "cell_type": "code",
   "execution_count": 9,
   "metadata": {
    "scrolled": true
   },
   "outputs": [
    {
     "name": "stdout",
     "output_type": "stream",
     "text": [
      "ı\n"
     ]
    }
   ],
   "source": [
    "unicode_küçük_ı = '\\u0131'\n",
    "print(unicode_küçük_ı)"
   ]
  },
  {
   "cell_type": "markdown",
   "metadata": {},
   "source": [
    "**!!!  Bu Kaçış Dizilerini Kullanırken Çok Dikkatli Olmalıyız  !!!**"
   ]
  },
  {
   "cell_type": "markdown",
   "metadata": {},
   "source": [
    "Diyelim ki kodumuzda bir dosya konumu kullanıyoruz ve konum şu şekilde:\n",
    "\"C:\\users\\zeynep\\gizli\\dosya.txt\"\n",
    "\"Eee, ne olmuş yani?\" diyorsanız geçmiş olsun, burada hemen fark etmeniz gerek bir şey var; \n",
    "\\users --> \\u... Python \\u gördükten sonra \"\\u gördüm, demek ki UNICODE bir şeyler gelecek\" diye düşünecek ama işin aslı öyle değil. Neyse ki bu durumdan kurtulmanın yolunu biliyoruz. "
   ]
  },
  {
   "cell_type": "code",
   "execution_count": 10,
   "metadata": {
    "scrolled": true
   },
   "outputs": [
    {
     "name": "stdout",
     "output_type": "stream",
     "text": [
      "C:\\users\\zeynep\\gizli\\dosya.txt\n"
     ]
    }
   ],
   "source": [
    "dosya_konumu = \"C:\\\\users\\zeynep\\gizli\\dosya.txt\" # tek ters taksim ile yazarsak hata verir\n",
    "print(dosya_konumu)"
   ]
  },
  {
   "cell_type": "markdown",
   "metadata": {},
   "source": [
    "\\U - UNICODE kod konumlarını temsil etmek için kullanılır.\n",
    "üsttekinin kardeşi gibi düşünebiliriz, ancak U ile gösterilen kod konumları u ile gösterilenlere göre biraz daha uzundur."
   ]
  },
  {
   "cell_type": "code",
   "execution_count": 11,
   "metadata": {
    "scrolled": true
   },
   "outputs": [
    {
     "name": "stdout",
     "output_type": "stream",
     "text": [
      "ı\n"
     ]
    }
   ],
   "source": [
    "Unicode_küçük_ı = '\\U00000131'\n",
    "print(Unicode_küçük_ı)"
   ]
  },
  {
   "cell_type": "markdown",
   "metadata": {},
   "source": [
    "\\N - Karakterleri UNICODE adlarına göre kullanabilmemizi sağlar."
   ]
  },
  {
   "cell_type": "code",
   "execution_count": 13,
   "metadata": {},
   "outputs": [
    {
     "name": "stdout",
     "output_type": "stream",
     "text": [
      "a\n",
      "Ş\n"
     ]
    }
   ],
   "source": [
    "print(\"\\N{LATIN SMALL LETTER A}\") # -> a (küçük a)\n",
    "print(\"\\N{LATIN CAPITAL LETTER S WITH CEDILLA}\") # -> Ş (büyük ş)"
   ]
  },
  {
   "cell_type": "markdown",
   "metadata": {},
   "source": [
    "Bu kodları öğrenmek için de şunu yapıyoruz:"
   ]
  },
  {
   "cell_type": "code",
   "execution_count": 14,
   "metadata": {},
   "outputs": [
    {
     "name": "stdout",
     "output_type": "stream",
     "text": [
      "LATIN SMALL LETTER A\n"
     ]
    }
   ],
   "source": [
    "import unicodedata\n",
    "print(unicodedata.name('a'))"
   ]
  },
  {
   "cell_type": "markdown",
   "metadata": {},
   "source": [
    "\\x - Onaltılı sistemdeki bir sayının karakter karşılığını gösterebilmemizi sağlar.\n",
    "\n",
    "Kullanımı = \"\\xsayı\" --> Sayılar için --> http://www.ascii.cl/"
   ]
  },
  {
   "cell_type": "code",
   "execution_count": 15,
   "metadata": {},
   "outputs": [
    {
     "name": "stdout",
     "output_type": "stream",
     "text": [
      "A\n"
     ]
    }
   ],
   "source": [
    "sayı = \"\\x41\"\n",
    "print(sayı)"
   ]
  },
  {
   "cell_type": "markdown",
   "metadata": {},
   "source": [
    "\\a - Destekleyen sistemlerde, kasa hoparlöründen bir ‘bip’ sesi verilmesini sağlar."
   ]
  },
  {
   "cell_type": "code",
   "execution_count": 17,
   "metadata": {},
   "outputs": [
    {
     "name": "stdout",
     "output_type": "stream",
     "text": [
      "\u0007\n"
     ]
    }
   ],
   "source": [
    "bip = \"\\a\"\n",
    "print(bip) # --> cmd den yazınca çalışıyor ama Jupyter Notebook'tan çalışmıyor"
   ]
  },
  {
   "cell_type": "markdown",
   "metadata": {},
   "source": [
    "\\r - Bu hem ters taksim gibi bir kaçış dizisidir ve çok güzel bir kolaylık sağlar hem de print içinde kullanıldığında kullanıldıktan sonra yazılacak metni satır başından yazmaya başlar."
   ]
  },
  {
   "cell_type": "markdown",
   "metadata": {},
   "source": [
    "İlk özelliğinin kullanımı şu şekildedir --> `print(r\"...\")` "
   ]
  },
  {
   "cell_type": "code",
   "execution_count": 18,
   "metadata": {
    "scrolled": false
   },
   "outputs": [
    {
     "name": "stdout",
     "output_type": "stream",
     "text": [
      "Kaçış dizileri: \\, \\n, \\t, \\a, \\\\, r\n"
     ]
    }
   ],
   "source": [
    "print(r\"Kaçış dizileri: \\, \\n, \\t, \\a, \\\\, r\")"
   ]
  },
  {
   "cell_type": "markdown",
   "metadata": {},
   "source": [
    "Bu da ikinci kullanımı:\n",
    "\n",
    "\\r gördüğü yerde satırın başına geliyor ve yazmaya oradan devam ediyor."
   ]
  },
  {
   "cell_type": "code",
   "execution_count": 19,
   "metadata": {
    "scrolled": true
   },
   "outputs": [
    {
     "name": "stdout",
     "output_type": "stream",
     "text": [
      "Merhaba\r",
      "Dünya\n"
     ]
    }
   ],
   "source": [
    "print(\"Merhaba\\rDünya\") # Dünyaba şeklinde çıktı oluşturur"
   ]
  },
  {
   "cell_type": "markdown",
   "metadata": {},
   "source": [
    "\\v - Destekleyen sistemlerde düşey sekme oluşturulmasını sağlar."
   ]
  },
  {
   "cell_type": "code",
   "execution_count": 21,
   "metadata": {
    "scrolled": true
   },
   "outputs": [
    {
     "name": "stdout",
     "output_type": "stream",
     "text": [
      "düşey\u000b",
      "sekme\n"
     ]
    }
   ],
   "source": [
    "print(\"düşey\\vsekme\") # --> Jupyter Notebook'ta desteklemiyor, cmd de ♂ işareti çıkarıyor, nerede destekliyor bilmiyorum."
   ]
  },
  {
   "cell_type": "markdown",
   "metadata": {},
   "source": [
    "\\b - İmlecin sola doğru kaydırılmasını sağlar"
   ]
  },
  {
   "cell_type": "code",
   "execution_count": 24,
   "metadata": {
    "scrolled": true
   },
   "outputs": [
    {
     "name": "stdout",
     "output_type": "stream",
     "text": [
      "yahoo.com\b.uk\n",
      "istihza \b. \bcom\n"
     ]
    }
   ],
   "source": [
    "print(\"yahoo.com\\b.uk\") \n",
    "# imleç bir karakter sola kaydığı için, ‘com’ kelimesinin son harfi silindi ve ondan sonra gelen normal yazdırılmaya devam etti\n",
    "\n",
    "print('istihza', '\\b.', '\\bcom')\n",
    "# \\b olmadan deneyin bir de"
   ]
  },
  {
   "cell_type": "markdown",
   "metadata": {},
   "source": [
    "\\f - Yeni bir sayfaya geçilmesini sağlar."
   ]
  },
  {
   "cell_type": "code",
   "execution_count": 26,
   "metadata": {},
   "outputs": [],
   "source": [
    "d = open(\"kaçış_deneme.txt\", \"w\")\n",
    "\n",
    "print(\"deneme\\fdeneme\", file=d)\n",
    "\n",
    "d.close()"
   ]
  },
  {
   "cell_type": "markdown",
   "metadata": {},
   "source": [
    "Kaçış Dizilerine Toplu Bakış\n",
    "--------\n",
    "Biraz sonra bu önemli konuyu kapatacağız. Ama dilerseniz kapatmadan önce, bu bölümde öğrendiğimiz kaçış dizilerini şöyle bir topluca görelim:\n",
    "\n",
    "\\’ --> Karakter dizisi içinde tek tırnak işaretini kullanabilmemizi sağlar.\n",
    "\n",
    "\\” --> Karakter dizisi içinde çift tırnak işaretini kullanabilmemizi sağlar.\n",
    "\n",
    "\\\\ --> Karakter dizisi içinde \\ işaretini kullanabilmemizi sağlar.\n",
    "\n",
    "\\n --> Yeni bir satıra geçmemizi sağlar.\n",
    "\n",
    "\\t --> Karakterler arasında sekme boşluğu bırakmamızı sağlar.\n",
    "\n",
    "\\u --> UNICODE kod konumlarını gösterebilmemizi sağlar.\n",
    "\n",
    "\\U --> UNICODE kod konumlarını gösterebilmemizi sağlar.\n",
    "\n",
    "\\N --> Karakterleri UNICODE adlarına göre kullanabilmemizi sağlar.\n",
    "\n",
    "\\x --> Onaltılı sistemdeki bir sayının karakter karşılığını gösterebilmemizi sağlar.\n",
    "\n",
    "\\a --> Destekleyen sistemlerde, kasa hoparlöründen bir ‘bip’ sesi verilmesini sağlar.\n",
    "\n",
    "\\r --> Aynı satırın başına dönülmesini sağlar.\n",
    "\n",
    "\\v --> Destekleyen sistemlerde düşey sekme oluşturulmasını sağlar.\n",
    "\n",
    "\\b --> İmlecin sola doğru kaydırılmasını sağlar\n",
    "\n",
    "\\f --> Yeni bir sayfaya geçilmesini sağlar.\n",
    "\n",
    "r --> Karakter dizisi içinde kaçış dizilerini kullanabilmemizi sağlar."
   ]
  },
  {
   "cell_type": "markdown",
   "metadata": {},
   "source": [
    "https://python-istihza.yazbel.com/kacis_dizileri.html#kacis-dizilerine-toplu-bakis"
   ]
  }
 ],
 "metadata": {
  "kernelspec": {
   "display_name": "Python 3",
   "language": "python",
   "name": "python3"
  },
  "language_info": {
   "codemirror_mode": {
    "name": "ipython",
    "version": 3
   },
   "file_extension": ".py",
   "mimetype": "text/x-python",
   "name": "python",
   "nbconvert_exporter": "python",
   "pygments_lexer": "ipython3",
   "version": "3.8.3"
  }
 },
 "nbformat": 4,
 "nbformat_minor": 4
}
