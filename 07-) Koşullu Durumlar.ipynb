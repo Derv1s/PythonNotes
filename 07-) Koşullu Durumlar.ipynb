{
 "cells": [
  {
   "cell_type": "markdown",
   "metadata": {},
   "source": [
    "# Koşullu Durumlar\n",
    "`if - elif - else` liseden beri bildiğin şeyler. Çok basit."
   ]
  },
  {
   "cell_type": "markdown",
   "metadata": {},
   "source": [
    "## `if`\n",
    "Eğer koşul doğru ise yapılması istenilen şeyi yapar.\n",
    "\n",
    "`if [koşul] == True:\n",
    "    yapılacaklar...`"
   ]
  },
  {
   "cell_type": "code",
   "execution_count": 1,
   "metadata": {
    "scrolled": true
   },
   "outputs": [
    {
     "name": "stdout",
     "output_type": "stream",
     "text": [
      "n = 10 olduğu için bu kod çalıştı!\n"
     ]
    }
   ],
   "source": [
    "n = 10\n",
    "\n",
    "if n == 10:\n",
    "    print(\"n = 10 olduğu için bu kod çalıştı!\")"
   ]
  },
  {
   "cell_type": "markdown",
   "metadata": {},
   "source": [
    "Easy, bu kadar basit. `if [koşul] == True:` ile ne demek istedim?"
   ]
  },
  {
   "cell_type": "code",
   "execution_count": 2,
   "metadata": {},
   "outputs": [
    {
     "name": "stdout",
     "output_type": "stream",
     "text": [
      "True\n"
     ]
    }
   ],
   "source": [
    "print(n == 10)"
   ]
  },
  {
   "cell_type": "markdown",
   "metadata": {},
   "source": [
    "`n == 10` bir sorgudur. \"n, 10'a denktir\" diye sorgulama yapıyor. Görüyoruz ki n, 10'a denk. O zaman bize `True` çıktısı veriyor."
   ]
  },
  {
   "cell_type": "markdown",
   "metadata": {},
   "source": [
    "İşteçleri hatırlayalım:\n",
    "\n",
    "\\>  ---> büyüktür\n",
    "\n",
    "<  ---> küçüktür\n",
    "\n",
    "\\>=  ---> büyük eşittir\n",
    "\n",
    "<=  ---> küçük eşittir\n",
    "\n",
    "==  ---> eşittir\n",
    "\n",
    "!=  ---> eşit değildir"
   ]
  },
  {
   "cell_type": "markdown",
   "metadata": {},
   "source": [
    "`if` 'in şöyle bir özelliği de var;"
   ]
  },
  {
   "cell_type": "code",
   "execution_count": 4,
   "metadata": {},
   "outputs": [],
   "source": [
    "kelime = \"\"\n",
    "\n",
    "if kelime:\n",
    "    print(\"Bu kelimede bir şeyler yazıyor.\")"
   ]
  },
  {
   "cell_type": "markdown",
   "metadata": {},
   "source": [
    "Evet, herhangi bir çıktı almadık. Neden? çünkü kelimemiz boş. Python'da boş stringler ve 0 (sayı olan) `False` değer alır. Hemen birkaç tane daha kontrol yapalım."
   ]
  },
  {
   "cell_type": "code",
   "execution_count": 6,
   "metadata": {},
   "outputs": [
    {
     "name": "stdout",
     "output_type": "stream",
     "text": [
      "Bu kelimede bir şeyler yazıyor.\n"
     ]
    }
   ],
   "source": [
    "kelime_2 = \"Lalalala\"\n",
    "\n",
    "if kelime_2:\n",
    "    print(\"Bu kelimede bir şeyler yazıyor.\")"
   ]
  },
  {
   "cell_type": "code",
   "execution_count": 8,
   "metadata": {},
   "outputs": [
    {
     "name": "stdout",
     "output_type": "stream",
     "text": [
      "sayı_1 kontrol:\n",
      "sayı_2 kontrol:\n",
      "bu sayı 0 değil\n"
     ]
    }
   ],
   "source": [
    "sayı_1 = 0\n",
    "sayı_2 = 34523\n",
    "\n",
    "print(\"sayı_1 kontrol:\")\n",
    "if sayı_1:\n",
    "    print(\"bu sayı 0 değil\")\n",
    "    \n",
    "print(\"sayı_2 kontrol:\")\n",
    "if sayı_2:\n",
    "    print(\"bu sayı 0 değil\")"
   ]
  },
  {
   "cell_type": "markdown",
   "metadata": {},
   "source": [
    "Eveeeet. Gördüğümüz üzere eğer eğer bir değişkenin değerinin 0 ya da boş olup olmadığını kontrol etmek istersek direkt bu şekilde de kontrol edebiliriz. \n",
    "\n",
    "Bu nerede işimize yarayabilir? !!! Lütfen x alanını boş bırakmayın !!! tarzında uyarılar görürüz. Eğer isim alanı boş ise bunu bu şekilde kontrol edebiliriz mesela. (ufak bir örnek)"
   ]
  },
  {
   "cell_type": "markdown",
   "metadata": {},
   "source": [
    "kendime not: abi if else'i o kadar çok kullandım ki, örnek vermek istemiyor artık daha fazla xd. BU KONU ÇOKOMELLİ!!!"
   ]
  },
  {
   "cell_type": "markdown",
   "metadata": {},
   "source": [
    "## `elif`\n",
    "Bu `if` ile birlikte kullanılan bir koşul deyimidir. Kullanımını şöyle bir örnekle açıklamaya çalışayım;"
   ]
  },
  {
   "cell_type": "code",
   "execution_count": 13,
   "metadata": {},
   "outputs": [
    {
     "name": "stdout",
     "output_type": "stream",
     "text": [
      "1 sene beklemen gerekiyor...\n"
     ]
    }
   ],
   "source": [
    "yas = 17\n",
    "\n",
    "if yas >= 18:\n",
    "    print(\"Reşitsiniz, sitemize giriş yapabilirsiniz.\")\n",
    "\n",
    "elif yas == 17:\n",
    "    print(\"1 sene beklemen gerekiyor...\")\n",
    "    \n",
    "elif yas <= 16:\n",
    "    print(\"Easy boy, siteye girmene daha var.\")"
   ]
  },
  {
   "cell_type": "markdown",
   "metadata": {},
   "source": [
    "Burada ``yas`` değerini değiştirerek kodların ne yaptığını anlamaya çalışmak çok yararlı olacaktır. Ben `elif`'i düşünürken hep şu cümleyi kuruyorum: \"eğer bu değilse AMA BUYSA\". `elif` de bunu yapıyor, eğer ilk `if` koşul sağlanmıyorsa Python `elif`leri okumaya başlıyor ve koşulun sağlandığı İLK `elif`i çalıştırıyor. Neden İLK diyorum? çünkü öyle yapıyor, sağlanan ilk koşuldan sonra yazılan şeylere sağlıyor mu, sağlamıyor mu diye bakmıyor."
   ]
  },
  {
   "cell_type": "markdown",
   "metadata": {},
   "source": [
    "## `else`\n",
    "Bu da eğer \"koşullar sağlanmıyorsa\" demektir. Eğer yazdığımız koşulların hiçbiri çalışmıyorsa bu kodun içine yazılanlar çalışır."
   ]
  },
  {
   "cell_type": "code",
   "execution_count": 14,
   "metadata": {},
   "outputs": [
    {
     "name": "stdout",
     "output_type": "stream",
     "text": [
      "18 yaşına gelene kadar beklemelisin dostum.\n"
     ]
    }
   ],
   "source": [
    "yas = 16\n",
    "\n",
    "if yas >= 18:\n",
    "    print(\"Reşitsiniz, sitemize giriş yapabilirsiniz.\")\n",
    "else:\n",
    "    print(\"18 yaşına gelene kadar beklemelisin dostum.\")"
   ]
  },
  {
   "cell_type": "markdown",
   "metadata": {},
   "source": [
    "`yas` değişkenini 18'in altında hangi değeri verirsenin verin `else:` den sonra yazdığımız kod çalışacaktır.\n",
    "\n",
    "Bir şeyin dikkatinizi çekmesini bekliyorum. `if` ve `elif` yazarken koşul belirttik ama `else` yazarken direkt `else:` yazdık, neden? Çünkü `else` hiçbir koşulun sağlanmadığı o durumda gerçekleşecek şeyi yapmamıza yarar, bu sebeple bir koşul belirtmemize gerek yok, koşulumuz --> hiçbir koşulun sağlanmaması."
   ]
  },
  {
   "cell_type": "markdown",
   "metadata": {},
   "source": [
    "Özetle söz dizimi şu şekilde:\n",
    "\n",
    "`if koşul_1:\n",
    "    sonuç_1\n",
    "`\n",
    "\n",
    "`elif koşul_2:\n",
    "    sonuç_2`\n",
    "    \n",
    "`elif koşul_3:\n",
    "    sonuç_3`\n",
    "    \n",
    "`else:\n",
    "    sonuç_4`"
   ]
  }
 ],
 "metadata": {
  "kernelspec": {
   "display_name": "Python 3",
   "language": "python",
   "name": "python3"
  },
  "language_info": {
   "codemirror_mode": {
    "name": "ipython",
    "version": 3
   },
   "file_extension": ".py",
   "mimetype": "text/x-python",
   "name": "python",
   "nbconvert_exporter": "python",
   "pygments_lexer": "ipython3",
   "version": "3.8.3"
  }
 },
 "nbformat": 4,
 "nbformat_minor": 4
}
