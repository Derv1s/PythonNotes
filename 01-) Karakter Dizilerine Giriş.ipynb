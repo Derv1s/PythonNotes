{
 "cells": [
  {
   "cell_type": "markdown",
   "metadata": {},
   "source": [
    "# Karakter Dizilerine Giriş"
   ]
  },
  {
   "cell_type": "code",
   "execution_count": 3,
   "metadata": {
    "scrolled": true
   },
   "outputs": [
    {
     "data": {
      "text/plain": [
       "'Merhaba Dünya!'"
      ]
     },
     "execution_count": 3,
     "metadata": {},
     "output_type": "execute_result"
    }
   ],
   "source": [
    "\"Merhaba Dünya!\""
   ]
  },
  {
   "cell_type": "markdown",
   "metadata": {},
   "source": [
    "  Yukarıda yazdığımız \"Merhaba Dünya!\" ifadesi bir karakter dizisidir. İngilizcede buna *string* denir. En temel konulardan biri olmasıyla birlikte en önemli konulardan da birisir. \"Nesi bu kadar önemli?\" diye soraracak olursanız, Python'da o anda elinizdeki veri tipinin ne olduğunu ya da ne olmadığını bilmek o veri ile neler yapabileceğini ya da neler yapamayacağınızı bilmenizi sağlar. Her verinin kendine özgü özellikleri vardır. Bu sebeple veri tiplerini çok iyi bilmemiz gerekir.\n",
    "  \n",
    "  Yukarıdaki örneğe bakarak karakter dizilerinin nasıl yazılabildiği konusunda bir fikre sahip olmuş olabilirsiniz. Karakter dizileri genellikle kesme işareti (''), çift tırnak (\"\") veya üç tırnak (\"\"\" \"\"\") içine yazılabilir. İşte birkaç örnek:"
   ]
  },
  {
   "cell_type": "code",
   "execution_count": 4,
   "metadata": {},
   "outputs": [
    {
     "data": {
      "text/plain": [
       "'Tek tırnak'"
      ]
     },
     "execution_count": 4,
     "metadata": {},
     "output_type": "execute_result"
    }
   ],
   "source": [
    "'Tek tırnak'"
   ]
  },
  {
   "cell_type": "code",
   "execution_count": 5,
   "metadata": {},
   "outputs": [
    {
     "data": {
      "text/plain": [
       "'Çift tırnak'"
      ]
     },
     "execution_count": 5,
     "metadata": {},
     "output_type": "execute_result"
    }
   ],
   "source": [
    "\"Çift tırnak\""
   ]
  },
  {
   "cell_type": "code",
   "execution_count": 7,
   "metadata": {},
   "outputs": [
    {
     "data": {
      "text/plain": [
       "'Üç Tırnak\\nBunu alt alta satır\\nyazmak için kullanırız.'"
      ]
     },
     "execution_count": 7,
     "metadata": {},
     "output_type": "execute_result"
    }
   ],
   "source": [
    "\"\"\"Üç Tırnak\n",
    "Bunu alt alta satır\n",
    "yazmak için kullanırız.\"\"\""
   ]
  },
  {
   "cell_type": "code",
   "execution_count": 9,
   "metadata": {},
   "outputs": [
    {
     "data": {
      "text/plain": [
       "''"
      ]
     },
     "execution_count": 9,
     "metadata": {},
     "output_type": "execute_result"
    }
   ],
   "source": [
    "# içi boş bir karakter dizisi\n",
    "\"\""
   ]
  },
  {
   "cell_type": "code",
   "execution_count": 10,
   "metadata": {},
   "outputs": [
    {
     "data": {
      "text/plain": [
       "' '"
      ]
     },
     "execution_count": 10,
     "metadata": {},
     "output_type": "execute_result"
    }
   ],
   "source": [
    "# içinde boşluk karakteri olan bir karakter dizisi\n",
    "\" \""
   ]
  },
  {
   "cell_type": "code",
   "execution_count": 13,
   "metadata": {},
   "outputs": [
    {
     "data": {
      "text/plain": [
       "'a1#'"
      ]
     },
     "execution_count": 13,
     "metadata": {},
     "output_type": "execute_result"
    }
   ],
   "source": [
    "\"a1#\""
   ]
  },
  {
   "cell_type": "markdown",
   "metadata": {},
   "source": [
    "Yukarıdaki örneklerin hepsi birer karakter dizisidir. Hepsinin de ortak özelliği tırnak işaretleri içinde yazılmaları.\n",
    "Peki bir verinin karakter dizisi olup olmadığını farklı yollarla nasıl anlarız?\n",
    "İşte Python'da bunun için *type()* adında bir özellik kullanıyoruz. Nasıl mı? işte böyle:"
   ]
  },
  {
   "cell_type": "code",
   "execution_count": 15,
   "metadata": {},
   "outputs": [
    {
     "data": {
      "text/plain": [
       "str"
      ]
     },
     "execution_count": 15,
     "metadata": {},
     "output_type": "execute_result"
    }
   ],
   "source": [
    "type(\"Merhaba!\")"
   ]
  },
  {
   "cell_type": "markdown",
   "metadata": {},
   "source": [
    "Bir verinin türünü merak ettiğimiz zaman *type()* özelliğinin içine verimizi yazıyoruz ve verinin türü ekrana geliyor.\n",
    "Burada ekrana \"str\" diye bir yazı geldi, nedir bu \"str\"? Bu karakter dizisinin İngilizce'deki karşılığı olan \"string\" kelimesinin kısaltılmışıdır."
   ]
  },
  {
   "cell_type": "markdown",
   "metadata": {},
   "source": [
    "Sadece karakter dizilerini kullanarak ile yapılacak pek fazla şey olmayabilir ama karakter dizileri ile en azından şu şekilde kodlar yazabiliriz:"
   ]
  },
  {
   "cell_type": "code",
   "execution_count": 16,
   "metadata": {},
   "outputs": [
    {
     "data": {
      "text/plain": [
       "'MerhabaDünya!'"
      ]
     },
     "execution_count": 16,
     "metadata": {},
     "output_type": "execute_result"
    }
   ],
   "source": [
    "\"Merhaba\" + \"Dünya!\""
   ]
  },
  {
   "cell_type": "markdown",
   "metadata": {},
   "source": [
    "Görüldüğü gibi karakter dizilerini artı (+) işareti ile birleştirebiliyoruz. Ancak şuna dikkat edin, karakter dizisini nasıl tanımlarsak Python da öyle birleştirir, yani biz arada boşluk yazmazsak Pyhton da yazmaz. Aslında yazdığınız kodlar tamamen emrinize amade bir şekilde çalışır. Tamamen sizin söylediğiniz şeyleri yaparlar. Bu sebeple ne söylemek istediğinizi dikkat ederek ve net bir şekilde söyleyin."
   ]
  },
  {
   "cell_type": "code",
   "execution_count": 17,
   "metadata": {},
   "outputs": [
    {
     "data": {
      "text/plain": [
       "'Merhaba Dünya!'"
      ]
     },
     "execution_count": 17,
     "metadata": {},
     "output_type": "execute_result"
    }
   ],
   "source": [
    "\"Merhaba\" + \" \" + \"Dünya!\""
   ]
  },
  {
   "cell_type": "code",
   "execution_count": 18,
   "metadata": {},
   "outputs": [
    {
     "data": {
      "text/plain": [
       "'Merhaba Dünya!'"
      ]
     },
     "execution_count": 18,
     "metadata": {},
     "output_type": "execute_result"
    }
   ],
   "source": [
    "\"Merhaba \" + \"Dünya!\"\n",
    "# \"Merhaba\" kelimesini sonunda bir boşluk ile birlikte tanımladık"
   ]
  },
  {
   "cell_type": "markdown",
   "metadata": {},
   "source": [
    "Bu arada karakter dizilerini birleştirmek için (+) kullanmak zorunda değilsiniz. Python yan yana yazdığınız karakter dizilerini de birleştirmek istediğinizi anlayabilecek kapasitededir. Python emrinize amade çalışır ancak bazı küçük şeyleri kendisi akıl edebilir."
   ]
  },
  {
   "cell_type": "code",
   "execution_count": 20,
   "metadata": {},
   "outputs": [
    {
     "data": {
      "text/plain": [
       "'Merhaba Dünya!'"
      ]
     },
     "execution_count": 20,
     "metadata": {},
     "output_type": "execute_result"
    }
   ],
   "source": [
    "\"Merhaba \" \"Dünya!\""
   ]
  },
  {
   "cell_type": "code",
   "execution_count": 22,
   "metadata": {},
   "outputs": [
    {
     "data": {
      "text/plain": [
       "'www.google.com'"
      ]
     },
     "execution_count": 22,
     "metadata": {},
     "output_type": "execute_result"
    }
   ],
   "source": [
    "\"www\" \".\" \"google\" \".\" \"com\""
   ]
  },
  {
   "cell_type": "markdown",
   "metadata": {},
   "source": [
    "Ancak görüldüğü gibi (+) işareti kullanmamak kodu okuması zor bir hale sokabiliyor."
   ]
  },
  {
   "cell_type": "markdown",
   "metadata": {},
   "source": [
    "Karakter dizileri ile sadece (+) matematiksel operatörü kullanarak işlem yapmak zorunda değiliz. Çarpma (*) işlemini de yapabiliriz."
   ]
  },
  {
   "cell_type": "code",
   "execution_count": 23,
   "metadata": {},
   "outputs": [
    {
     "data": {
      "text/plain": [
       "'www'"
      ]
     },
     "execution_count": 23,
     "metadata": {},
     "output_type": "execute_result"
    }
   ],
   "source": [
    "\"w\" * 3"
   ]
  },
  {
   "cell_type": "code",
   "execution_count": 24,
   "metadata": {},
   "outputs": [
    {
     "data": {
      "text/plain": [
       "'dudu dudu dilleri lıkır lıkır içmeli'"
      ]
     },
     "execution_count": 24,
     "metadata": {},
     "output_type": "execute_result"
    }
   ],
   "source": [
    "\"dudu \" * 2 + \"dilleri \" + \"lıkır \" * 2 + \"içmeli\""
   ]
  },
  {
   "cell_type": "code",
   "execution_count": 25,
   "metadata": {},
   "outputs": [
    {
     "data": {
      "text/plain": [
       "'----------'"
      ]
     },
     "execution_count": 25,
     "metadata": {},
     "output_type": "execute_result"
    }
   ],
   "source": [
    "\"-\" * 10"
   ]
  },
  {
   "cell_type": "code",
   "execution_count": 27,
   "metadata": {},
   "outputs": [
    {
     "data": {
      "text/plain": [
       "'ismail abi!                              hooop!'"
      ]
     },
     "execution_count": 27,
     "metadata": {},
     "output_type": "execute_result"
    }
   ],
   "source": [
    "\"ismail abi!\" + \" \" * 30 + \"hooop!\""
   ]
  },
  {
   "cell_type": "markdown",
   "metadata": {},
   "source": [
    "Çarpma işlemi de bu şekilde kullanılıyor."
   ]
  },
  {
   "cell_type": "markdown",
   "metadata": {},
   "source": [
    "Karakter dizileri ile yalnızca (+) ve (*) operatörü kullanabiliyoruz, (-) ve (/) işlemlerini karakter dizilerinde kullanamıyoruz."
   ]
  }
 ],
 "metadata": {
  "kernelspec": {
   "display_name": "Python 3",
   "language": "python",
   "name": "python3"
  },
  "language_info": {
   "codemirror_mode": {
    "name": "ipython",
    "version": 3
   },
   "file_extension": ".py",
   "mimetype": "text/x-python",
   "name": "python",
   "nbconvert_exporter": "python",
   "pygments_lexer": "ipython3",
   "version": "3.8.3"
  }
 },
 "nbformat": 4,
 "nbformat_minor": 4
}
