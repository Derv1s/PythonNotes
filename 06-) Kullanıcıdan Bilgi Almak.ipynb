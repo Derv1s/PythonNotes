{
 "cells": [
  {
   "cell_type": "markdown",
   "metadata": {},
   "source": [
    "# Kullanıcıdan Bilgi Almak"
   ]
  },
  {
   "cell_type": "markdown",
   "metadata": {},
   "source": [
    "Şimdiye kadar yazdığımız kodlarda veriyi hep önceden tanımlayıp o şekilde işlem yaptık. Artık yazdığımız programlarda kullanıcıdan veri alıp, o verilerle işlemler yapacağız."
   ]
  },
  {
   "cell_type": "code",
   "execution_count": 2,
   "metadata": {},
   "outputs": [
    {
     "name": "stdout",
     "output_type": "stream",
     "text": [
      "İsminizi girin: Berkay\n",
      "Merhaba Berkay!\n"
     ]
    }
   ],
   "source": [
    "isim = input(\"İsminizi girin: \")\n",
    "print(\"Merhaba \" + isim + \"!\")"
   ]
  },
  {
   "cell_type": "markdown",
   "metadata": {},
   "source": [
    "Gördüğünüz gibi bu kod belirli bir isme hitap etmiyor. Kullanıcı hangi ismi girerse o isme hitap ediyor."
   ]
  },
  {
   "cell_type": "markdown",
   "metadata": {},
   "source": [
    "Peki bu verinin tipi ne? Bu soru çok önemli bir sorudur ve yazılım hayatımızda kendimize pek çok kere bu soruyu sorduğumuzu görürüz. Verinin tipinin ne olduğunu kontrol etmeyi biliyoruz, o halde hemen kontrol edelim."
   ]
  },
  {
   "cell_type": "code",
   "execution_count": 3,
   "metadata": {},
   "outputs": [
    {
     "data": {
      "text/plain": [
       "str"
      ]
     },
     "execution_count": 3,
     "metadata": {},
     "output_type": "execute_result"
    }
   ],
   "source": [
    "type(isim)"
   ]
  },
  {
   "cell_type": "markdown",
   "metadata": {},
   "source": [
    "`str` yani karakter dizisi. Demek ki `input()` fonksiyonunun çıktısı bize `str` değişken veriyor. Bu neden önemli? Matematiksel işlemler yapmaya çalışın bakalım ne oluyor?"
   ]
  },
  {
   "cell_type": "markdown",
   "metadata": {},
   "source": [
    "## Tip Dönüşümleri\n",
    "Eğer matematiksel işlem yapıp istediğiniz sonucu alamadıysanız üzülmeye hiç gerek yok çünkü şimdi öğreneceğimiz konu ile bu sorunu da ortadan kaldıracağız."
   ]
  },
  {
   "cell_type": "markdown",
   "metadata": {},
   "source": [
    "Özetle Tip Dönüşümleri:\n",
    "\n",
    "1-) int() --> girilen veriyi tam sayıya çevirir\n",
    "\n",
    "2-) str() --> girilen veriyi karakter dizisine çevirir\n",
    "\n",
    "3-) float() --> girilen veriyi ondalıklı sayıya çevirir\n",
    "\n",
    "4-) complex() --> girilen veriyi karmaşık sayıya çevirir"
   ]
  },
  {
   "cell_type": "code",
   "execution_count": 10,
   "metadata": {},
   "outputs": [
    {
     "name": "stdout",
     "output_type": "stream",
     "text": [
      "Lütfen bir sayı giriniz: 15\n",
      "15 <class 'str'>\n",
      "15 <class 'int'>\n"
     ]
    }
   ],
   "source": [
    "sayı = input(\"Lütfen bir sayı giriniz: \")\n",
    "\n",
    "print(sayı, type(sayı))\n",
    "\n",
    "sayı = int(sayı) # --> sayıyı integer (tam sayı) değere çeviriyoruz\n",
    "\n",
    "print(sayı, type(sayı))"
   ]
  },
  {
   "cell_type": "code",
   "execution_count": 11,
   "metadata": {},
   "outputs": [
    {
     "name": "stdout",
     "output_type": "stream",
     "text": [
      "15 <class 'str'>\n"
     ]
    }
   ],
   "source": [
    "sayı = str(sayı) # --> sayıyı tekrar string (karakter dizisi) değere çevirdik\n",
    "print(sayı, type(sayı))"
   ]
  },
  {
   "cell_type": "code",
   "execution_count": 13,
   "metadata": {},
   "outputs": [
    {
     "name": "stdout",
     "output_type": "stream",
     "text": [
      "15.0 <class 'float'>\n"
     ]
    }
   ],
   "source": [
    "sayı = float(sayı) # sayıyı float (ondalıklı) değere çevirdik\n",
    "print(sayı, type(sayı))"
   ]
  },
  {
   "cell_type": "code",
   "execution_count": 14,
   "metadata": {
    "scrolled": true
   },
   "outputs": [
    {
     "name": "stdout",
     "output_type": "stream",
     "text": [
      "(15+0j) <class 'complex'>\n"
     ]
    }
   ],
   "source": [
    "sayı = complex(sayı) # sayıyı complex (karmaşık sayı) değerine çevirdik\n",
    "print(sayı, type(sayı))"
   ]
  },
  {
   "cell_type": "markdown",
   "metadata": {},
   "source": [
    "Basit ama etkili olan tip dönüşümlerini de öğrenmiş olduk, bu bilgiler işimize çok yarayacak!\n",
    "\n",
    "Tip dönüşümlerini yapmanın şöyle pratik bir kullanımı var ve genelde bunu kullanıcıdan veri alırken bu şekilde kullanım yaygın olarak kullanılır:"
   ]
  },
  {
   "cell_type": "code",
   "execution_count": 15,
   "metadata": {},
   "outputs": [
    {
     "name": "stdout",
     "output_type": "stream",
     "text": [
      "Lütfen sayınızı giriniz: 13\n",
      "13 <class 'int'>\n"
     ]
    }
   ],
   "source": [
    "sayı = int(input(\"Lütfen sayınızı giriniz: \"))\n",
    "\n",
    "print(sayı, type(sayı))"
   ]
  },
  {
   "cell_type": "markdown",
   "metadata": {},
   "source": [
    "## eval() ve exec() Fonksiyonları\n",
    "Çok işe yarar fonksiyonlardır ama kullanırken **çoook** dikkatli olmak gerekir. Hemen bir örnek yapalım.\n",
    "\n",
    "eval = evaluate --> işlemek, işleme tabi tutmak"
   ]
  },
  {
   "cell_type": "code",
   "execution_count": 17,
   "metadata": {
    "scrolled": false
   },
   "outputs": [
    {
     "name": "stdout",
     "output_type": "stream",
     "text": [
      "\n",
      "Basit bir hesap makinesi uygulaması.\n",
      "\n",
      "İşleçler:\n",
      "\n",
      "    +   toplama\n",
      "    -   çıkarma\n",
      "    *   çarpma\n",
      "    /   bölme\n",
      "\n",
      "Yapmak istediğiniz işlemi yazıp ENTER\n",
      "tuşuna basın. (Örneğin 23 ve 46 sayılarını\n",
      "çarpmak için 23 * 46 yazdıktan sonra\n",
      "ENTER tuşuna basın.)\n",
      "\n",
      "İşleminiz: 20 + 11\n",
      "31\n"
     ]
    }
   ],
   "source": [
    "print(\"\"\"\n",
    "Basit bir hesap makinesi uygulaması.\n",
    "\n",
    "İşleçler:\n",
    "\n",
    "    +   toplama\n",
    "    -   çıkarma\n",
    "    *   çarpma\n",
    "    /   bölme\n",
    "\n",
    "Yapmak istediğiniz işlemi yazıp ENTER\n",
    "tuşuna basın. (Örneğin 23 ve 46 sayılarını\n",
    "çarpmak için 23 * 46 yazdıktan sonra\n",
    "ENTER tuşuna basın.)\n",
    "\"\"\")\n",
    "\n",
    "veri = input(\"Yapmak istediğiniz işlemi yazın: \")\n",
    "hesap = eval(veri)\n",
    "\n",
    "print(hesap)"
   ]
  },
  {
   "cell_type": "markdown",
   "metadata": {},
   "source": [
    "Girdi olarak \"20 + 11\" yazdık ama Pyhton bunu karakter dizisi değil de iki tam sayı ve toplama işlemi olarak okudu. Peki bu nasıl oldu?\n",
    "\n",
    "`eval()` fonksiyonu içine yazılan işlemi anlayan ve işleyen bir fonksiyondur, bu sayede içine yazdığımız \"21 + 11\" ifadesini okudu, anladı ve toplamı bize verdi. \n",
    "\n",
    "Hmmm. Demek `eval()` içine yazılan kodu anlıyor, o zaman peki şöyle bir şey yaparsak ne olur?"
   ]
  },
  {
   "cell_type": "code",
   "execution_count": 18,
   "metadata": {
    "scrolled": true
   },
   "outputs": [
    {
     "name": "stdout",
     "output_type": "stream",
     "text": [
      "Yapmak istediğiniz işlemi yazın: print(\"aga noluyoruz???\")\n",
      "aga noluyoruz???\n",
      "None\n"
     ]
    }
   ],
   "source": [
    "veri = input(\"Yapmak istediğiniz işlemi yazın: \")\n",
    "hesap = eval(veri)\n",
    "\n",
    "print(hesap)"
   ]
  },
  {
   "cell_type": "markdown",
   "metadata": {},
   "source": [
    "Haydaaa! Eee bu bizim `print()` fonksiyonunu da çalıştırdı??? Demek ki bu arkadaşın içine kod yazabiliyoruz. Şimdi şunu düşünün; zararlı bir kod parçasını oraya yazarsak ne olur??? Belki yaptığınız proje, belki direkt bilgisayardaki bütün dosyalarınız puf* olur. Okay?"
   ]
  },
  {
   "attachments": {},
   "cell_type": "markdown",
   "metadata": {},
   "source": [
    "``exec()`` fonksiyonunda ise ``eval()`` ile yapamadığımız bazı şeyleri exec() ile yapabiliriz\n",
    "\n",
    "Bu fonksiyon yardımıyla, karakter dizileri içindeki çok kapsamlı Python kodlarını işletebilirsiniz."
   ]
  },
  {
   "cell_type": "code",
   "execution_count": 19,
   "metadata": {},
   "outputs": [
    {
     "name": "stdout",
     "output_type": "stream",
     "text": [
      "45\n"
     ]
    }
   ],
   "source": [
    "exec(\"a = 45\")\n",
    "print(a)"
   ]
  },
  {
   "cell_type": "code",
   "execution_count": 20,
   "metadata": {},
   "outputs": [
    {
     "name": "stdout",
     "output_type": "stream",
     "text": [
      "\n",
      "\n",
      "Python'da ekrana çıktı verebilmek için print() adlı bir\n",
      "fonksiyondan yararlanıyoruz. Bu fonksiyonu şöyle kullanabilirsiniz:\n",
      "\n",
      ">>> print(\"Merhaba Dünya\")\n",
      "\n",
      "Şimdi de aynı kodu siz yazın!\n",
      "\n",
      ">>> print(\"Merhaba Dünya\")\n",
      "Merhaba Dünya\n"
     ]
    }
   ],
   "source": [
    "egitim = \"\"\"\n",
    "\n",
    "Python'da ekrana çıktı verebilmek için print() adlı bir\n",
    "fonksiyondan yararlanıyoruz. Bu fonksiyonu şöyle kullanabilirsiniz:\n",
    "\n",
    ">>> print(\"Merhaba Dünya\")\n",
    "\n",
    "Şimdi de aynı kodu siz yazın!\n",
    "\n",
    ">>> \"\"\"\n",
    "\n",
    "girdi = input(egitim)\n",
    "\n",
    "exec(girdi)"
   ]
  },
  {
   "cell_type": "markdown",
   "metadata": {},
   "source": [
    "## format() Fonksiyonu\n",
    "\n",
    "İnternette dolaşırken mutlaka \"blabla.com sayfasına ulaşılamıyor!\" hatasıyla karşılaşmışsınızdır. Bu tür hata mesajlarının nasıl yapıldığını birlikte öğrenelim.\n",
    "\n",
    "Öncelikle kullanıcıdan bir internet adresi girmesini istiyoruz"
   ]
  },
  {
   "cell_type": "code",
   "execution_count": 21,
   "metadata": {},
   "outputs": [
    {
     "name": "stdout",
     "output_type": "stream",
     "text": [
      "Lütfen ulaşmak istediğiniz sitenin adresini yazın: berkayozgun.com\n"
     ]
    }
   ],
   "source": [
    "url = input(\"Lütfen ulaşmak istediğiniz sitenin adresini yazın: \")"
   ]
  },
  {
   "cell_type": "markdown",
   "metadata": {},
   "source": [
    "Kullanıcıya gösterilecek hata için bir taslak metin oluşturuyoruz"
   ]
  },
  {
   "cell_type": "code",
   "execution_count": 22,
   "metadata": {},
   "outputs": [
    {
     "name": "stdout",
     "output_type": "stream",
     "text": [
      "Hata! Google Chrome berkayozgun.com sitesini bulamadı\n"
     ]
    }
   ],
   "source": [
    "hata_taslağı = \"Hata! Google Chrome {} sitesini bulamadı\"\n",
    "\n",
    "print(hata_taslağı.format(url))"
   ]
  },
  {
   "cell_type": "markdown",
   "metadata": {},
   "source": [
    "veya şöyle basitçe şöyle bir kullanımı da var:"
   ]
  },
  {
   "cell_type": "code",
   "execution_count": 24,
   "metadata": {},
   "outputs": [
    {
     "name": "stdout",
     "output_type": "stream",
     "text": [
      "Ali Ayşe'yi seviyor!\n"
     ]
    }
   ],
   "source": [
    "print(\"{} {}'yi seviyor!\".format(\"Ali\", \"Ayşe\"))"
   ]
  },
  {
   "cell_type": "code",
   "execution_count": 25,
   "metadata": {},
   "outputs": [
    {
     "data": {
      "text/plain": [
       "\"Ali Ayşe'yi seviyor!\""
      ]
     },
     "execution_count": 25,
     "metadata": {},
     "output_type": "execute_result"
    }
   ],
   "source": [
    "metin = \"{} {}'yi seviyor!\"\n",
    "metin.format(\"Ali\", \"Ayşe\")"
   ]
  }
 ],
 "metadata": {
  "kernelspec": {
   "display_name": "Python 3",
   "language": "python",
   "name": "python3"
  },
  "language_info": {
   "codemirror_mode": {
    "name": "ipython",
    "version": 3
   },
   "file_extension": ".py",
   "mimetype": "text/x-python",
   "name": "python",
   "nbconvert_exporter": "python",
   "pygments_lexer": "ipython3",
   "version": "3.8.3"
  }
 },
 "nbformat": 4,
 "nbformat_minor": 4
}
